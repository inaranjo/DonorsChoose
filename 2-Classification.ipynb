{
 "cells": [
  {
   "cell_type": "code",
   "execution_count": 1,
   "metadata": {},
   "outputs": [],
   "source": [
    "# Common imports\n",
    "import numpy as np\n",
    "import os\n",
    "import seaborn as sns\n",
    "from sklearn.preprocessing import Imputer\n",
    "import datetime\n",
    "from scipy import sparse\n",
    "from scipy.sparse import hstack, csr_matrix\n",
    "\n",
    "# To plot pretty figures\n",
    "%matplotlib inline\n",
    "import matplotlib\n",
    "import matplotlib.pyplot as plt\n",
    "plt.rcParams['axes.labelsize'] = 14\n",
    "plt.rcParams['xtick.labelsize'] = 12\n",
    "plt.rcParams['ytick.labelsize'] = 12\n",
    "\n",
    "# to make this notebook's output stable across runs\n",
    "np.random.seed(42)\n",
    "\n",
    "# Where to save the figures\n",
    "PROJECT_ROOT_DIR = \".\"\n",
    "CHAPTER_ID = \"\"\n",
    "IMAGES_PATH = os.path.join(PROJECT_ROOT_DIR, \"images\", CHAPTER_ID)\n",
    "\n",
    "def save_fig(fig_id, tight_layout=True, fig_extension=\"png\", resolution=300):\n",
    "    path = os.path.join(IMAGES_PATH, fig_id + \".\" + fig_extension)\n",
    "    print(\"Saving figure\", fig_id)\n",
    "    if tight_layout:\n",
    "        plt.tight_layout()\n",
    "    plt.savefig(path, format=fig_extension, dpi=resolution)\n",
    "\n",
    "# Ignore useless warnings (see SciPy issue #5998)\n",
    "import warnings\n",
    "warnings.filterwarnings(action=\"ignore\", module=\"scipy\", message=\"^internal gelsd\")"
   ]
  },
  {
   "cell_type": "code",
   "execution_count": 2,
   "metadata": {},
   "outputs": [
    {
     "data": {
      "text/plain": [
       "((182080, 186), (78035, 185))"
      ]
     },
     "execution_count": 2,
     "metadata": {},
     "output_type": "execute_result"
    }
   ],
   "source": [
    "import pandas as pd\n",
    "train_data = pd.read_csv(\"./datasets/data_train.csv\")\n",
    "test_data = pd.read_csv(\"./datasets/data_test.csv\")\n",
    "#tfidvectors_train = sparse.load_npz(\"./datasets/tfidvectors_train.npz\")\n",
    "#tfidvectors_test = sparse.load_npz(\"./datasets/tfidvectors_test.npz\")\n",
    "#tfidvectors_train_title = sparse.load_npz(\"./datasets/tfidvectors_train_title.npz\")\n",
    "#tfidvectors_test_title = sparse.load_npz(\"./datasets/tfidvectors_test_title.npz\")\n",
    "tfidvectors_train_all = sparse.load_npz(\"./datasets/tfidvectors_train_all_1000feat.npz\")\n",
    "tfidvectors_test_all = sparse.load_npz(\"./datasets/tfidvectors_test_all_1000feat.npz\")\n",
    "\n",
    "(train_data.shape, test_data.shape)"
   ]
  },
  {
   "cell_type": "code",
   "execution_count": 3,
   "metadata": {},
   "outputs": [
    {
     "data": {
      "text/plain": [
       "['id',\n",
       " 'teacher_id',\n",
       " 'project_submitted_datetime',\n",
       " 'project_subject_categories',\n",
       " 'project_subject_subcategories',\n",
       " 'project_title',\n",
       " 'project_essay_1',\n",
       " 'project_essay_2',\n",
       " 'project_resource_summary',\n",
       " 'teacher_number_of_previously_posted_projects',\n",
       " 'project_is_approved',\n",
       " 'cat_school_state_AK',\n",
       " 'cat_school_state_AL',\n",
       " 'cat_school_state_AR',\n",
       " 'cat_school_state_AZ',\n",
       " 'cat_school_state_CA',\n",
       " 'cat_school_state_CO',\n",
       " 'cat_school_state_CT',\n",
       " 'cat_school_state_DC',\n",
       " 'cat_school_state_DE',\n",
       " 'cat_school_state_FL',\n",
       " 'cat_school_state_GA',\n",
       " 'cat_school_state_HI',\n",
       " 'cat_school_state_IA',\n",
       " 'cat_school_state_ID',\n",
       " 'cat_school_state_IL',\n",
       " 'cat_school_state_IN',\n",
       " 'cat_school_state_KS',\n",
       " 'cat_school_state_KY',\n",
       " 'cat_school_state_LA',\n",
       " 'cat_school_state_MA',\n",
       " 'cat_school_state_MD',\n",
       " 'cat_school_state_ME',\n",
       " 'cat_school_state_MI',\n",
       " 'cat_school_state_MN',\n",
       " 'cat_school_state_MO',\n",
       " 'cat_school_state_MS',\n",
       " 'cat_school_state_MT',\n",
       " 'cat_school_state_NC',\n",
       " 'cat_school_state_ND',\n",
       " 'cat_school_state_NE',\n",
       " 'cat_school_state_NH',\n",
       " 'cat_school_state_NJ',\n",
       " 'cat_school_state_NM',\n",
       " 'cat_school_state_NV',\n",
       " 'cat_school_state_NY',\n",
       " 'cat_school_state_OH',\n",
       " 'cat_school_state_OK',\n",
       " 'cat_school_state_OR',\n",
       " 'cat_school_state_PA',\n",
       " 'cat_school_state_RI',\n",
       " 'cat_school_state_SC',\n",
       " 'cat_school_state_SD',\n",
       " 'cat_school_state_TN',\n",
       " 'cat_school_state_TX',\n",
       " 'cat_school_state_UT',\n",
       " 'cat_school_state_VA',\n",
       " 'cat_school_state_VT',\n",
       " 'cat_school_state_WA',\n",
       " 'cat_school_state_WI',\n",
       " 'cat_school_state_WV',\n",
       " 'cat_school_state_WY',\n",
       " 'cat_project_grade_Grades 3-5',\n",
       " 'cat_project_grade_Grades 6-8',\n",
       " 'cat_project_grade_Grades 9-12',\n",
       " 'cat_project_grade_Grades PreK-2',\n",
       " 'cat_teacher_prefix_Dr.',\n",
       " 'cat_teacher_prefix_Mr.',\n",
       " 'cat_teacher_prefix_Mrs.',\n",
       " 'cat_teacher_prefix_Ms.',\n",
       " 'cat_teacher_prefix_Teacher',\n",
       " 'mean_cost',\n",
       " 'total_cost',\n",
       " 'unique_items',\n",
       " 'total_quantity',\n",
       " 'month_created',\n",
       " 'weekday_created',\n",
       " 'date_created',\n",
       " 'hour_created',\n",
       " 'cat_month_created_1',\n",
       " 'cat_month_created_10',\n",
       " 'cat_month_created_11',\n",
       " 'cat_month_created_12',\n",
       " 'cat_month_created_2',\n",
       " 'cat_month_created_3',\n",
       " 'cat_month_created_4',\n",
       " 'cat_month_created_5',\n",
       " 'cat_month_created_6',\n",
       " 'cat_month_created_7',\n",
       " 'cat_month_created_8',\n",
       " 'cat_month_created_9',\n",
       " 'cat_weekday_created_0',\n",
       " 'cat_weekday_created_1',\n",
       " 'cat_weekday_created_2',\n",
       " 'cat_weekday_created_3',\n",
       " 'cat_weekday_created_4',\n",
       " 'cat_weekday_created_5',\n",
       " 'cat_weekday_created_6',\n",
       " 'cat_hour_created_0',\n",
       " 'cat_hour_created_1',\n",
       " 'cat_hour_created_10',\n",
       " 'cat_hour_created_11',\n",
       " 'cat_hour_created_12',\n",
       " 'cat_hour_created_13',\n",
       " 'cat_hour_created_14',\n",
       " 'cat_hour_created_15',\n",
       " 'cat_hour_created_16',\n",
       " 'cat_hour_created_17',\n",
       " 'cat_hour_created_18',\n",
       " 'cat_hour_created_19',\n",
       " 'cat_hour_created_2',\n",
       " 'cat_hour_created_20',\n",
       " 'cat_hour_created_21',\n",
       " 'cat_hour_created_22',\n",
       " 'cat_hour_created_23',\n",
       " 'cat_hour_created_3',\n",
       " 'cat_hour_created_4',\n",
       " 'cat_hour_created_5',\n",
       " 'cat_hour_created_6',\n",
       " 'cat_hour_created_7',\n",
       " 'cat_hour_created_8',\n",
       " 'cat_hour_created_9',\n",
       " 'len_project_subject_categories',\n",
       " 'words_project_subject_categories',\n",
       " 'cat_project_subject_Applied Learning',\n",
       " 'cat_project_subject_Applied Learning, Health & Sports',\n",
       " 'cat_project_subject_Applied Learning, History & Civics',\n",
       " 'cat_project_subject_Applied Learning, Literacy & Language',\n",
       " 'cat_project_subject_Applied Learning, Math & Science',\n",
       " 'cat_project_subject_Applied Learning, Music & The Arts',\n",
       " 'cat_project_subject_Applied Learning, Special Needs',\n",
       " 'cat_project_subject_Applied Learning, Warmth, Care & Hunger',\n",
       " 'cat_project_subject_Health & Sports',\n",
       " 'cat_project_subject_Health & Sports, Applied Learning',\n",
       " 'cat_project_subject_Health & Sports, History & Civics',\n",
       " 'cat_project_subject_Health & Sports, Literacy & Language',\n",
       " 'cat_project_subject_Health & Sports, Math & Science',\n",
       " 'cat_project_subject_Health & Sports, Music & The Arts',\n",
       " 'cat_project_subject_Health & Sports, Special Needs',\n",
       " 'cat_project_subject_Health & Sports, Warmth, Care & Hunger',\n",
       " 'cat_project_subject_History & Civics',\n",
       " 'cat_project_subject_History & Civics, Applied Learning',\n",
       " 'cat_project_subject_History & Civics, Health & Sports',\n",
       " 'cat_project_subject_History & Civics, Literacy & Language',\n",
       " 'cat_project_subject_History & Civics, Math & Science',\n",
       " 'cat_project_subject_History & Civics, Music & The Arts',\n",
       " 'cat_project_subject_History & Civics, Special Needs',\n",
       " 'cat_project_subject_History & Civics, Warmth, Care & Hunger',\n",
       " 'cat_project_subject_Literacy & Language',\n",
       " 'cat_project_subject_Literacy & Language, Applied Learning',\n",
       " 'cat_project_subject_Literacy & Language, Health & Sports',\n",
       " 'cat_project_subject_Literacy & Language, History & Civics',\n",
       " 'cat_project_subject_Literacy & Language, Math & Science',\n",
       " 'cat_project_subject_Literacy & Language, Music & The Arts',\n",
       " 'cat_project_subject_Literacy & Language, Special Needs',\n",
       " 'cat_project_subject_Literacy & Language, Warmth, Care & Hunger',\n",
       " 'cat_project_subject_Math & Science',\n",
       " 'cat_project_subject_Math & Science, Applied Learning',\n",
       " 'cat_project_subject_Math & Science, Health & Sports',\n",
       " 'cat_project_subject_Math & Science, History & Civics',\n",
       " 'cat_project_subject_Math & Science, Literacy & Language',\n",
       " 'cat_project_subject_Math & Science, Music & The Arts',\n",
       " 'cat_project_subject_Math & Science, Special Needs',\n",
       " 'cat_project_subject_Math & Science, Warmth, Care & Hunger',\n",
       " 'cat_project_subject_Music & The Arts',\n",
       " 'cat_project_subject_Music & The Arts, Applied Learning',\n",
       " 'cat_project_subject_Music & The Arts, Health & Sports',\n",
       " 'cat_project_subject_Music & The Arts, History & Civics',\n",
       " 'cat_project_subject_Music & The Arts, Special Needs',\n",
       " 'cat_project_subject_Music & The Arts, Warmth, Care & Hunger',\n",
       " 'cat_project_subject_Special Needs',\n",
       " 'cat_project_subject_Special Needs, Health & Sports',\n",
       " 'cat_project_subject_Special Needs, Music & The Arts',\n",
       " 'cat_project_subject_Special Needs, Warmth, Care & Hunger',\n",
       " 'cat_project_subject_Warmth, Care & Hunger',\n",
       " 'len_project_subject_subcategories',\n",
       " 'words_project_subject_subcategories',\n",
       " 'len_project_resource_summary',\n",
       " 'words_project_resource_summary',\n",
       " 'len_project_title',\n",
       " 'words_project_title',\n",
       " 'project_essay',\n",
       " 'sent_pol_project_essay',\n",
       " 'sent_sub_project_essay',\n",
       " 'sent_pol_project_resource_summary',\n",
       " 'sent_sub_project_resource_summary']"
      ]
     },
     "execution_count": 3,
     "metadata": {},
     "output_type": "execute_result"
    }
   ],
   "source": [
    "list(train_data.columns)"
   ]
  },
  {
   "cell_type": "code",
   "execution_count": 4,
   "metadata": {},
   "outputs": [
    {
     "name": "stdout",
     "output_type": "stream",
     "text": [
      "(154, 17)\n"
     ]
    }
   ],
   "source": [
    "cat_features  = ['cat_school_state_AK',\n",
    "                 'cat_school_state_AL',\n",
    "                 'cat_school_state_AR',\n",
    "                 'cat_school_state_AZ',\n",
    "                 'cat_school_state_CA',\n",
    "                 'cat_school_state_CO',\n",
    "                 'cat_school_state_CT',\n",
    "                 'cat_school_state_DC',\n",
    "                 'cat_school_state_DE',\n",
    "                 'cat_school_state_FL',\n",
    "                 'cat_school_state_GA',\n",
    "                 'cat_school_state_HI',\n",
    "                 'cat_school_state_IA',\n",
    "                 'cat_school_state_ID',\n",
    "                 'cat_school_state_IL',\n",
    "                 'cat_school_state_IN',\n",
    "                 'cat_school_state_KS',\n",
    "                 'cat_school_state_KY',\n",
    "                 'cat_school_state_LA',\n",
    "                 'cat_school_state_MA',\n",
    "                 'cat_school_state_MD',\n",
    "                 'cat_school_state_ME',\n",
    "                 'cat_school_state_MI',\n",
    "                 'cat_school_state_MN',\n",
    "                 'cat_school_state_MO',\n",
    "                 'cat_school_state_MS',\n",
    "                 'cat_school_state_MT',\n",
    "                 'cat_school_state_NC',\n",
    "                 'cat_school_state_ND',\n",
    "                 'cat_school_state_NE',\n",
    "                 'cat_school_state_NH',\n",
    "                 'cat_school_state_NJ',\n",
    "                 'cat_school_state_NM',\n",
    "                 'cat_school_state_NV',\n",
    "                 'cat_school_state_NY',\n",
    "                 'cat_school_state_OH',\n",
    "                 'cat_school_state_OK',\n",
    "                 'cat_school_state_OR',\n",
    "                 'cat_school_state_PA',\n",
    "                 'cat_school_state_RI',\n",
    "                 'cat_school_state_SC',\n",
    "                 'cat_school_state_SD',\n",
    "                 'cat_school_state_TN',\n",
    "                 'cat_school_state_TX',\n",
    "                 'cat_school_state_UT',\n",
    "                 'cat_school_state_VA',\n",
    "                 'cat_school_state_VT',\n",
    "                 'cat_school_state_WA',\n",
    "                 'cat_school_state_WI',\n",
    "                 'cat_school_state_WV',\n",
    "                 'cat_school_state_WY',\n",
    "                 'cat_project_grade_Grades 3-5',\n",
    "                 'cat_project_grade_Grades 6-8',\n",
    "                 'cat_project_grade_Grades 9-12',\n",
    "                 'cat_project_grade_Grades PreK-2',\n",
    "                 'cat_teacher_prefix_Dr.',\n",
    "                 'cat_teacher_prefix_Mr.',\n",
    "                 'cat_teacher_prefix_Mrs.',\n",
    "                 'cat_teacher_prefix_Ms.',\n",
    "                 'cat_teacher_prefix_Teacher',\n",
    "                 'cat_month_created_1',\n",
    "                 'cat_month_created_10',\n",
    "                 'cat_month_created_11',\n",
    "                 'cat_month_created_12',\n",
    "                 'cat_month_created_2',\n",
    "                 'cat_month_created_3',\n",
    "                 'cat_month_created_4',\n",
    "                 'cat_month_created_5',\n",
    "                 'cat_month_created_6',\n",
    "                 'cat_month_created_7',\n",
    "                 'cat_month_created_8',\n",
    "                 'cat_month_created_9',\n",
    "                 'cat_weekday_created_0',\n",
    "                 'cat_weekday_created_1',\n",
    "                 'cat_weekday_created_2',\n",
    "                 'cat_weekday_created_3',\n",
    "                 'cat_weekday_created_4',\n",
    "                 'cat_weekday_created_5',\n",
    "                 'cat_weekday_created_6',\n",
    "                 'cat_hour_created_0',\n",
    "                 'cat_hour_created_1',\n",
    "                 'cat_hour_created_10',\n",
    "                 'cat_hour_created_11',\n",
    "                 'cat_hour_created_12',\n",
    "                 'cat_hour_created_13',\n",
    "                 'cat_hour_created_14',\n",
    "                 'cat_hour_created_15',\n",
    "                 'cat_hour_created_16',\n",
    "                 'cat_hour_created_17',\n",
    "                 'cat_hour_created_18',\n",
    "                 'cat_hour_created_19',\n",
    "                 'cat_hour_created_2',\n",
    "                 'cat_hour_created_20',\n",
    "                 'cat_hour_created_21',\n",
    "                 'cat_hour_created_22',\n",
    "                 'cat_hour_created_23',\n",
    "                 'cat_hour_created_3',\n",
    "                 'cat_hour_created_4',\n",
    "                 'cat_hour_created_5',\n",
    "                 'cat_hour_created_6',\n",
    "                 'cat_hour_created_7',\n",
    "                 'cat_hour_created_8',\n",
    "                 'cat_hour_created_9',\n",
    "                 'cat_project_subject_Applied Learning',\n",
    "                 'cat_project_subject_Applied Learning, Health & Sports',\n",
    "                 'cat_project_subject_Applied Learning, History & Civics',\n",
    "                 'cat_project_subject_Applied Learning, Literacy & Language',\n",
    "                 'cat_project_subject_Applied Learning, Math & Science',\n",
    "                 'cat_project_subject_Applied Learning, Music & The Arts',\n",
    "                 'cat_project_subject_Applied Learning, Special Needs',\n",
    "                 'cat_project_subject_Applied Learning, Warmth, Care & Hunger',\n",
    "                 'cat_project_subject_Health & Sports',\n",
    "                 'cat_project_subject_Health & Sports, Applied Learning',\n",
    "                 'cat_project_subject_Health & Sports, History & Civics',\n",
    "                 'cat_project_subject_Health & Sports, Literacy & Language',\n",
    "                 'cat_project_subject_Health & Sports, Math & Science',\n",
    "                 'cat_project_subject_Health & Sports, Music & The Arts',\n",
    "                 'cat_project_subject_Health & Sports, Special Needs',\n",
    "                 'cat_project_subject_Health & Sports, Warmth, Care & Hunger',\n",
    "                 'cat_project_subject_History & Civics',\n",
    "                 'cat_project_subject_History & Civics, Applied Learning',\n",
    "                 'cat_project_subject_History & Civics, Health & Sports',\n",
    "                 'cat_project_subject_History & Civics, Literacy & Language',\n",
    "                 'cat_project_subject_History & Civics, Math & Science',\n",
    "                 'cat_project_subject_History & Civics, Music & The Arts',\n",
    "                 'cat_project_subject_History & Civics, Special Needs',\n",
    "                 'cat_project_subject_History & Civics, Warmth, Care & Hunger',\n",
    "                 'cat_project_subject_Literacy & Language',\n",
    "                 'cat_project_subject_Literacy & Language, Applied Learning',\n",
    "                 'cat_project_subject_Literacy & Language, Health & Sports',\n",
    "                 'cat_project_subject_Literacy & Language, History & Civics',\n",
    "                 'cat_project_subject_Literacy & Language, Math & Science',\n",
    "                 'cat_project_subject_Literacy & Language, Music & The Arts',\n",
    "                 'cat_project_subject_Literacy & Language, Special Needs',\n",
    "                 'cat_project_subject_Literacy & Language, Warmth, Care & Hunger',\n",
    "                 'cat_project_subject_Math & Science',\n",
    "                 'cat_project_subject_Math & Science, Applied Learning',\n",
    "                 'cat_project_subject_Math & Science, Health & Sports',\n",
    "                 'cat_project_subject_Math & Science, History & Civics',\n",
    "                 'cat_project_subject_Math & Science, Literacy & Language',\n",
    "                 'cat_project_subject_Math & Science, Music & The Arts',\n",
    "                 'cat_project_subject_Math & Science, Special Needs',\n",
    "                 'cat_project_subject_Math & Science, Warmth, Care & Hunger',\n",
    "                 'cat_project_subject_Music & The Arts',\n",
    "                 'cat_project_subject_Music & The Arts, Applied Learning',\n",
    "                 'cat_project_subject_Music & The Arts, Health & Sports',\n",
    "                 'cat_project_subject_Music & The Arts, History & Civics',\n",
    "                 'cat_project_subject_Music & The Arts, Special Needs',\n",
    "                 'cat_project_subject_Music & The Arts, Warmth, Care & Hunger',\n",
    "                 'cat_project_subject_Special Needs',\n",
    "                 'cat_project_subject_Special Needs, Health & Sports',\n",
    "                 'cat_project_subject_Special Needs, Music & The Arts',\n",
    "                 'cat_project_subject_Special Needs, Warmth, Care & Hunger',\n",
    "                 'cat_project_subject_Warmth, Care & Hunger',\n",
    "                ]\n",
    "\n",
    "num_features = ['teacher_number_of_previously_posted_projects',\n",
    "                'mean_cost',\n",
    "                'total_cost',\n",
    "                'unique_items',\n",
    "                'total_quantity',\n",
    "                'len_project_subject_categories',\n",
    "                'words_project_subject_categories',\n",
    "                'len_project_subject_subcategories',\n",
    "                'words_project_subject_subcategories',\n",
    "                'len_project_title',\n",
    "                'words_project_title',\n",
    "                'len_project_resource_summary',\n",
    "                'words_project_resource_summary',\n",
    "                'sent_pol_project_essay',\n",
    "                'sent_sub_project_essay',\n",
    "                'sent_pol_project_resource_summary',\n",
    "                'sent_sub_project_resource_summary'\n",
    "               ]\n",
    "print(len(cat_features),len(num_features))"
   ]
  },
  {
   "cell_type": "code",
   "execution_count": 5,
   "metadata": {},
   "outputs": [
    {
     "data": {
      "text/plain": [
       "171"
      ]
     },
     "execution_count": 5,
     "metadata": {},
     "output_type": "execute_result"
    }
   ],
   "source": [
    "features = cat_features + num_features\n",
    "len(features)"
   ]
  },
  {
   "cell_type": "code",
   "execution_count": 6,
   "metadata": {},
   "outputs": [],
   "source": [
    "X_full = csr_matrix(hstack([train_data[features].values, tfidvectors_train_all]))\n",
    "X_test = csr_matrix(hstack([test_data[features].values, tfidvectors_test_all]))\n",
    "#X_full = csr_matrix(hstack([train_data[features].values, tfidvectors_train_title]))\n",
    "#X_test = csr_matrix(hstack([test_data[features].values, tfidvectors_test_title]))\n",
    "#X_full = csr_matrix(hstack([train_data[features].values, tfidvectors_train]))\n",
    "#X_test = csr_matrix(hstack([test_data[features].values, tfidvectors_test]))"
   ]
  },
  {
   "cell_type": "code",
   "execution_count": 7,
   "metadata": {},
   "outputs": [],
   "source": [
    "from sklearn.model_selection import train_test_split\n",
    "\n",
    "# Split stratified to conserve label proportions in train and test sets\n",
    "X_train, X_val, y_train, y_val = train_test_split(X_full, train_data[\"project_is_approved\"],\n",
    "                                                    stratify=train_data[\"project_is_approved\"], \n",
    "                                                    test_size=0.20)"
   ]
  },
  {
   "cell_type": "code",
   "execution_count": 8,
   "metadata": {},
   "outputs": [
    {
     "name": "stdout",
     "output_type": "stream",
     "text": [
      "((145664, 2235), (145664,), (36416, 2235), (36416,))\n"
     ]
    }
   ],
   "source": [
    "print(X_train.shape, y_train.shape, X_val.shape, y_val.shape)"
   ]
  },
  {
   "cell_type": "code",
   "execution_count": 9,
   "metadata": {},
   "outputs": [],
   "source": [
    "#X_train = X_train.todense()\n",
    "#X_val = X_val.todense()"
   ]
  },
  {
   "cell_type": "code",
   "execution_count": 10,
   "metadata": {},
   "outputs": [
    {
     "data": {
      "text/plain": [
       "<145664x2235 sparse matrix of type '<type 'numpy.float64'>'\n",
       "\twith 16034399 stored elements in Compressed Sparse Row format>"
      ]
     },
     "execution_count": 10,
     "metadata": {},
     "output_type": "execute_result"
    }
   ],
   "source": [
    "X_train"
   ]
  },
  {
   "cell_type": "markdown",
   "metadata": {},
   "source": [
    "# Models"
   ]
  },
  {
   "cell_type": "code",
   "execution_count": 11,
   "metadata": {},
   "outputs": [],
   "source": [
    "from sklearn.model_selection import cross_val_score\n",
    "from sklearn.ensemble import RandomForestClassifier\n",
    "from sklearn.ensemble import GradientBoostingClassifier\n",
    "from sklearn.linear_model import LogisticRegression\n",
    "from sklearn.svm import SVC, LinearSVC\n",
    "from sklearn.neighbors import KNeighborsClassifier\n",
    "from sklearn.naive_bayes import GaussianNB\n",
    "from sklearn.linear_model import Perceptron\n",
    "from sklearn.linear_model import SGDClassifier\n",
    "from sklearn.tree import DecisionTreeClassifier\n",
    "from xgboost import XGBClassifier\n",
    "from sklearn.neural_network import MLPClassifier\n",
    "from sklearn.preprocessing import StandardScaler\n",
    "from sklearn.metrics import roc_curve\n",
    "from sklearn.metrics import auc\n",
    "from sklearn.model_selection import cross_val_predict\n",
    "import lightgbm\n",
    "from lightgbm import LGBMClassifier"
   ]
  },
  {
   "cell_type": "code",
   "execution_count": 21,
   "metadata": {},
   "outputs": [
    {
     "name": "stdout",
     "output_type": "stream",
     "text": [
      "('fitting -- ', 'LGB')\n",
      "('LGB', array([0.76939599, 0.76537347, 0.76224496, 0.76191209, 0.76037182]))\n",
      "('fitting -- ', 'RFC')\n",
      "('RFC', array([0.73811089, 0.73343164, 0.72407817, 0.73132805, 0.72408657]))\n",
      "('fitting -- ', 'LogisticRegression')\n",
      "('LogisticRegression', array([0.70416795, 0.69290881, 0.69680627, 0.69389705, 0.69234194]))\n",
      "('fitting -- ', 'XGB')\n"
     ]
    },
    {
     "name": "stderr",
     "output_type": "stream",
     "text": [
      "ERROR:root:Internal Python error in the inspect module.\n",
      "Below is the traceback from this internal error.\n",
      "\n"
     ]
    },
    {
     "name": "stdout",
     "output_type": "stream",
     "text": [
      "Traceback (most recent call last):\n",
      "  File \"/usr/local/lib/python2.7/dist-packages/IPython/core/ultratb.py\", line 1132, in get_records\n",
      "    return _fixed_getinnerframes(etb, number_of_lines_of_context, tb_offset)\n",
      "  File \"/usr/local/lib/python2.7/dist-packages/IPython/core/ultratb.py\", line 313, in wrapped\n",
      "    return f(*args, **kwargs)\n",
      "  File \"/usr/local/lib/python2.7/dist-packages/IPython/core/ultratb.py\", line 358, in _fixed_getinnerframes\n",
      "    records = fix_frame_records_filenames(inspect.getinnerframes(etb, context))\n",
      "  File \"/usr/lib/python2.7/inspect.py\", line 1049, in getinnerframes\n",
      "    framelist.append((tb.tb_frame,) + getframeinfo(tb, context))\n",
      "  File \"/usr/lib/python2.7/inspect.py\", line 1013, in getframeinfo\n",
      "    lines, lnum = findsource(frame)\n",
      "  File \"/usr/local/lib/python2.7/dist-packages/IPython/core/ultratb.py\", line 182, in findsource\n",
      "    lines = linecache.getlines(file, globals_dict)\n",
      "  File \"/usr/lib/python2.7/linecache.py\", line 41, in getlines\n",
      "    return updatecache(filename, module_globals)\n",
      "  File \"/usr/lib/python2.7/linecache.py\", line 132, in updatecache\n",
      "    lines = fp.readlines()\n",
      "KeyboardInterrupt\n"
     ]
    },
    {
     "ename": "IndexError",
     "evalue": "string index out of range",
     "output_type": "error",
     "traceback": [
      "\u001b[0;31m---------------------------------------------------------------------------\u001b[0m",
      "\u001b[0;31mIndexError\u001b[0m                                Traceback (most recent call last)",
      "\u001b[0;32m/usr/local/lib/python2.7/dist-packages/IPython/core/interactiveshell.pyc\u001b[0m in \u001b[0;36mrun_code\u001b[0;34m(self, code_obj, result)\u001b[0m\n\u001b[1;32m   2897\u001b[0m             \u001b[0;32mif\u001b[0m \u001b[0mresult\u001b[0m \u001b[0;32mis\u001b[0m \u001b[0;32mnot\u001b[0m \u001b[0mNone\u001b[0m\u001b[0;34m:\u001b[0m\u001b[0;34m\u001b[0m\u001b[0m\n\u001b[1;32m   2898\u001b[0m                 \u001b[0mresult\u001b[0m\u001b[0;34m.\u001b[0m\u001b[0merror_in_exec\u001b[0m \u001b[0;34m=\u001b[0m \u001b[0msys\u001b[0m\u001b[0;34m.\u001b[0m\u001b[0mexc_info\u001b[0m\u001b[0;34m(\u001b[0m\u001b[0;34m)\u001b[0m\u001b[0;34m[\u001b[0m\u001b[0;36m1\u001b[0m\u001b[0;34m]\u001b[0m\u001b[0;34m\u001b[0m\u001b[0m\n\u001b[0;32m-> 2899\u001b[0;31m             \u001b[0mself\u001b[0m\u001b[0;34m.\u001b[0m\u001b[0mshowtraceback\u001b[0m\u001b[0;34m(\u001b[0m\u001b[0;34m)\u001b[0m\u001b[0;34m\u001b[0m\u001b[0m\n\u001b[0m\u001b[1;32m   2900\u001b[0m         \u001b[0;32melse\u001b[0m\u001b[0;34m:\u001b[0m\u001b[0;34m\u001b[0m\u001b[0m\n\u001b[1;32m   2901\u001b[0m             \u001b[0moutflag\u001b[0m \u001b[0;34m=\u001b[0m \u001b[0;36m0\u001b[0m\u001b[0;34m\u001b[0m\u001b[0m\n",
      "\u001b[0;32m/usr/local/lib/python2.7/dist-packages/IPython/core/interactiveshell.pyc\u001b[0m in \u001b[0;36mshowtraceback\u001b[0;34m(self, exc_tuple, filename, tb_offset, exception_only)\u001b[0m\n\u001b[1;32m   1824\u001b[0m                     \u001b[0;32mexcept\u001b[0m \u001b[0mException\u001b[0m\u001b[0;34m:\u001b[0m\u001b[0;34m\u001b[0m\u001b[0m\n\u001b[1;32m   1825\u001b[0m                         stb = self.InteractiveTB.structured_traceback(etype,\n\u001b[0;32m-> 1826\u001b[0;31m                                             value, tb, tb_offset=tb_offset)\n\u001b[0m\u001b[1;32m   1827\u001b[0m \u001b[0;34m\u001b[0m\u001b[0m\n\u001b[1;32m   1828\u001b[0m                     \u001b[0mself\u001b[0m\u001b[0;34m.\u001b[0m\u001b[0m_showtraceback\u001b[0m\u001b[0;34m(\u001b[0m\u001b[0metype\u001b[0m\u001b[0;34m,\u001b[0m \u001b[0mvalue\u001b[0m\u001b[0;34m,\u001b[0m \u001b[0mstb\u001b[0m\u001b[0;34m)\u001b[0m\u001b[0;34m\u001b[0m\u001b[0m\n",
      "\u001b[0;32m/usr/local/lib/python2.7/dist-packages/IPython/core/ultratb.pyc\u001b[0m in \u001b[0;36mstructured_traceback\u001b[0;34m(self, etype, value, tb, tb_offset, number_of_lines_of_context)\u001b[0m\n\u001b[1;32m   1409\u001b[0m         \u001b[0mself\u001b[0m\u001b[0;34m.\u001b[0m\u001b[0mtb\u001b[0m \u001b[0;34m=\u001b[0m \u001b[0mtb\u001b[0m\u001b[0;34m\u001b[0m\u001b[0m\n\u001b[1;32m   1410\u001b[0m         return FormattedTB.structured_traceback(\n\u001b[0;32m-> 1411\u001b[0;31m             self, etype, value, tb, tb_offset, number_of_lines_of_context)\n\u001b[0m\u001b[1;32m   1412\u001b[0m \u001b[0;34m\u001b[0m\u001b[0m\n\u001b[1;32m   1413\u001b[0m \u001b[0;34m\u001b[0m\u001b[0m\n",
      "\u001b[0;32m/usr/local/lib/python2.7/dist-packages/IPython/core/ultratb.pyc\u001b[0m in \u001b[0;36mstructured_traceback\u001b[0;34m(self, etype, value, tb, tb_offset, number_of_lines_of_context)\u001b[0m\n\u001b[1;32m   1317\u001b[0m             \u001b[0;31m# Verbose modes need a full traceback\u001b[0m\u001b[0;34m\u001b[0m\u001b[0;34m\u001b[0m\u001b[0m\n\u001b[1;32m   1318\u001b[0m             return VerboseTB.structured_traceback(\n\u001b[0;32m-> 1319\u001b[0;31m                 \u001b[0mself\u001b[0m\u001b[0;34m,\u001b[0m \u001b[0metype\u001b[0m\u001b[0;34m,\u001b[0m \u001b[0mvalue\u001b[0m\u001b[0;34m,\u001b[0m \u001b[0mtb\u001b[0m\u001b[0;34m,\u001b[0m \u001b[0mtb_offset\u001b[0m\u001b[0;34m,\u001b[0m \u001b[0mnumber_of_lines_of_context\u001b[0m\u001b[0;34m\u001b[0m\u001b[0m\n\u001b[0m\u001b[1;32m   1320\u001b[0m             )\n\u001b[1;32m   1321\u001b[0m         \u001b[0;32melse\u001b[0m\u001b[0;34m:\u001b[0m\u001b[0;34m\u001b[0m\u001b[0m\n",
      "\u001b[0;32m/usr/local/lib/python2.7/dist-packages/IPython/core/ultratb.pyc\u001b[0m in \u001b[0;36mstructured_traceback\u001b[0;34m(self, etype, evalue, etb, tb_offset, number_of_lines_of_context)\u001b[0m\n\u001b[1;32m   1202\u001b[0m                 \u001b[0mstructured_traceback_parts\u001b[0m \u001b[0;34m+=\u001b[0m \u001b[0mformatted_exception\u001b[0m\u001b[0;34m\u001b[0m\u001b[0m\n\u001b[1;32m   1203\u001b[0m         \u001b[0;32melse\u001b[0m\u001b[0;34m:\u001b[0m\u001b[0;34m\u001b[0m\u001b[0m\n\u001b[0;32m-> 1204\u001b[0;31m             \u001b[0mstructured_traceback_parts\u001b[0m \u001b[0;34m+=\u001b[0m \u001b[0mformatted_exception\u001b[0m\u001b[0;34m[\u001b[0m\u001b[0;36m0\u001b[0m\u001b[0;34m]\u001b[0m\u001b[0;34m\u001b[0m\u001b[0m\n\u001b[0m\u001b[1;32m   1205\u001b[0m \u001b[0;34m\u001b[0m\u001b[0m\n\u001b[1;32m   1206\u001b[0m         \u001b[0;32mreturn\u001b[0m \u001b[0mstructured_traceback_parts\u001b[0m\u001b[0;34m\u001b[0m\u001b[0m\n",
      "\u001b[0;31mIndexError\u001b[0m: string index out of range"
     ]
    }
   ],
   "source": [
    "classifiers = {\n",
    "    'LGB' : LGBMClassifier(boosting_type='gbdt',\n",
    "                           objective='binary',\n",
    "                           n_estimators = 500,\n",
    "                           learning_rate = 0.05,\n",
    "                           max_depth = 10,\n",
    "                           min_data_in_leaf = 200\n",
    "                       #num_class=9,early_stopping = 50,num_iteration=10000,num_leaves=31,\n",
    "                       #is_enable_sparse='true',tree_learner='data',min_data_in_leaf=600,max_depth=4,\n",
    "                       #learning_rate=0.01,  max_bin=255, subsample_for_bin=50000, \n",
    "                       #min_split_gain=5, min_child_weight=5, min_child_samples=10, subsample=0.995, \n",
    "                       #subsample_freq=1, colsample_bytree=1, reg_alpha=0, \n",
    "                       #reg_lambda=0, seed=0, nthread=-1, silent=True\n",
    "                          ),\n",
    "\n",
    "    'XGB' : XGBClassifier(learning_rate = 0.1, n_estimators = 300, max_depth = 7),\n",
    "    'RFC' : RandomForestClassifier(n_estimators = 500, \n",
    "                                   min_samples_split = 100,\n",
    "                                   min_samples_leaf = 70,\n",
    "                                   max_depth = 20,\n",
    "                                   max_features = 40\n",
    "                                  ),\n",
    "    \n",
    "    \n",
    "    'KNN' : KNeighborsClassifier(n_neighbors = 200, p=1),\n",
    "    'LogisticRegression' : LogisticRegression(C=0.01, penalty = 'l1'),    \n",
    "    #'SVC' : SVC(probability=True,max_iter=100),\n",
    "    #'GNB' : GaussianNB(),\n",
    "    #'MLP' : MLPClassifier(),\n",
    "\n",
    "    #'DTC' : DecisionTreeClassifier(),\n",
    "    \n",
    "}\n",
    "\n",
    "    \n",
    "fpr={}\n",
    "tpr={}\n",
    "\n",
    "\n",
    "for i,c in classifiers.items():\n",
    "    print ('fitting -- ', i ,) \n",
    "    score = cross_val_score(c, X_train, y_train, cv=5, scoring=\"roc_auc\",n_jobs=1)\n",
    "    c.fit(X_train, y_train)\n",
    "    y_pred = c.predict_proba(X_val)[:, 1]\n",
    "    fpr[i],tpr[i], _ = roc_curve(y_val, y_pred)\n",
    "    print (i, score)"
   ]
  },
  {
   "cell_type": "markdown",
   "metadata": {},
   "source": [
    "## Previous trainings:\n",
    "\n",
    "('fitting -- ', 'KNN')\n",
    "n_neighbors = 200, p=1\n",
    "('KNN', array([0.68299594, 0.67971493, 0.67040683]))\n",
    "('KNN', array([0.6889415 , 0.67766006, 0.67775979, 0.67308446, 0.67247148]))\n",
    "\n",
    "('fitting -- ', 'RFC')\n",
    "n_estimators = 500,\n",
    "min_samples_split = 100,\n",
    "min_samples_leaf = 70,\n",
    "max_depth = 20,\n",
    "max_features = 40\n",
    "('RFC', array([0.73811089, 0.73343164, 0.72407817, 0.73132805, 0.72408657]))\n",
    "('RFC', array([0.71530272, 0.70540646, 0.70270775, 0.7027511 , 0.69988612]))\n",
    "('RFC', array([0.71544482, 0.70562751, 0.70248537, 0.70256983, 0.70003428]))\n",
    "('RFC', array([0.70026585, 0.69378254, 0.68892217]))\n",
    "\n",
    "('fitting -- ', 'LogisticRegression')\n",
    "C=0.01, penalty = 'l1'\n",
    "('LogisticRegression', array([0.70416795, 0.69290881, 0.69680627, 0.69389705, 0.69234194]))\n",
    "('LogisticRegression', array([0.6853961 , 0.67461922, 0.67987311, 0.67657024, 0.67362548]))\n",
    "('LogisticRegression', array([0.68539305, 0.67463624, 0.67985317, 0.67664737, 0.67361481]))\n",
    "('LogisticRegression', array([0.6796264 , 0.68027167, 0.67315418]))\n",
    "\n",
    "('fitting -- ', 'XGB')\n",
    "learning_rate = 0.1, n_estimators = 300, max_depth = 7\n",
    "('XGB', array([0.70795328, 0.70033202, 0.69504551, 0.69473433, 0.69458729]))\n",
    "('XGB', array([0.7108579 , 0.70452663, 0.70012426]))\n",
    "\n",
    "('fitting -- ', 'LGB')\n",
    "boosting_type='gbdt',\n",
    "objective='binary',\n",
    "n_estimators = 500,\n",
    "learning_rate = 0.05,\n",
    "max_depth = 10,\n",
    "min_data_in_leaf = 200\n",
    "\n",
    "With sentiment features:\n",
    "('LGB', array([0.76939599, 0.76537347, 0.76224496, 0.76191209, 0.76037182]))\n",
    "\n",
    "With merged essays max features 1000\n",
    "('LGB', array([0.76940894, 0.76517187, 0.76209402, 0.76226799, 0.75996957]))\n",
    "\n",
    "boosting_type='gbdt',\n",
    "objective='binary',\n",
    "n_estimators = 600,\n",
    "learning_rate = 0.1,\n",
    "max_depth = 20,\n",
    "min_data_in_leaf = 100\n",
    "\n",
    "Merged essays 500 features\n",
    "('LGB', array([0.75603212, 0.75100252, 0.74726664, 0.74646664, 0.74347167]))\n",
    "\n",
    "With merged essays max features 1000\n",
    "('LGB', array([0.7640731 , 0.75800843, 0.75601979, 0.75322756, 0.75167747]))\n",
    "\n",
    "('LGB', array([0.76178369, 0.75723606, 0.75544451, 0.7541823 , 0.74929794]))\n",
    "\n",
    "With essays and title tfide (max features 500)\n",
    "('LGB', array([0.76089825, 0.75734219, 0.7541632 , 0.75404792, 0.75108932]))\n",
    "\n",
    "With title tfidf vectors:\n",
    "('LGB', array([0.70993243, 0.71319898, 0.71467634, 0.71323809, 0.71105805]))\n",
    "                           \n",
    "('LGB', array([0.71721299, 0.70613643, 0.70337458, 0.70431305, 0.70199223]))\n",
    "('LGB', array([0.71042279, 0.7002675 , 0.69949267, 0.69827134, 0.69634005]))\n",
    "\n",
    "('fitting -- ', 'GNB')\n",
    "('GNB', array([0.57326004, 0.57308017, 0.57311777]))\n",
    "\n",
    "('fitting -- ', 'MLP')\n",
    "('MLP', array([0.63533981, 0.67674316, 0.68559269]))\n",
    "\n"
   ]
  },
  {
   "cell_type": "code",
   "execution_count": 13,
   "metadata": {},
   "outputs": [
    {
     "name": "stdout",
     "output_type": "stream",
     "text": [
      "('Saving figure', '2-roc_curve-lgb')\n"
     ]
    },
    {
     "data": {
      "image/png": "[encoded data removed]",
      "text/plain": [
       "<Figure size 576x432 with 1 Axes>"
      ]
     },
     "metadata": {},
     "output_type": "display_data"
    }
   ],
   "source": [
    "def plot_roc_curve(fpr, tpr, label=None):\n",
    "    plt.plot(fpr, tpr, linewidth=2, label=label)\n",
    "    plt.plot([0, 1], [0, 1], 'k--')\n",
    "    plt.axis([0, 1, 0, 1])\n",
    "    plt.xlabel('False Positive Rate', fontsize=16)\n",
    "    plt.ylabel('True Positive Rate', fontsize=16)\n",
    "    plt.legend()\n",
    "\n",
    "plt.figure(figsize=(8, 6))\n",
    "#plot_roc_curve(fpr[\"KNN\"], tpr[\"KNN\"], label=\"K Nearest Neighbors\")\n",
    "#plot_roc_curve(fpr[\"GNB\"], tpr[\"GNB\"], label=\"Gaussian Naive Bayes\")\n",
    "#plot_roc_curve(fpr[\"MLP\"], tpr[\"MLP\"], label=\"Multi Layer Perceptron\")\n",
    "plot_roc_curve(fpr[\"LGB\"], tpr[\"LGB\"], label=\"Light GBM\")\n",
    "#plot_roc_curve(fpr[\"SVC\"], tpr[\"SVC\"], label=\"Support Vectors\")\n",
    "#plot_roc_curve(fpr[\"XGB\"], tpr[\"XGB\"], label=\"XGradient Boost\")\n",
    "#plot_roc_curve(fpr[\"DTC\"], tpr[\"DTC\"], label=\"Decision Tree\")\n",
    "#plot_roc_curve(fpr[\"RFC\"], tpr[\"RFC\"], label=\"Random forest\")\n",
    "#plot_roc_curve(fpr[\"LogisticRegression\"], tpr[\"LogisticRegression\"], label=\"LogisticRegression\")\n",
    "save_fig(\"2-roc_curve-lgb\")\n",
    "plt.show()"
   ]
  },
  {
   "cell_type": "code",
   "execution_count": 14,
   "metadata": {},
   "outputs": [
    {
     "name": "stdout",
     "output_type": "stream",
     "text": [
      "('LGBMClassifier', 0.7560856927092647)\n"
     ]
    }
   ],
   "source": [
    "from sklearn.metrics import roc_auc_score\n",
    "\n",
    "for clf in (#classifiers[\"RFC\"], \n",
    "            #classifiers[\"KNN\"], \n",
    "            #classifiers[\"XGB\"], \n",
    "            classifiers[\"LGB\"], \n",
    "            #classifiers[\"GNB\"], \n",
    "            #classifiers[\"MLP\"], \n",
    "            #classifiers[\"SVC\"], \n",
    "            #classifiers[\"LogisticRegression\"], \n",
    "            #classifiers[\"DTC\"]\n",
    "           ):\n",
    "    y_pred = clf.predict_proba(X_val)[:,1]\n",
    "    print(clf.__class__.__name__, roc_auc_score(y_val, y_pred))"
   ]
  },
  {
   "cell_type": "code",
   "execution_count": null,
   "metadata": {},
   "outputs": [],
   "source": []
  },
  {
   "cell_type": "code",
   "execution_count": null,
   "metadata": {},
   "outputs": [],
   "source": []
  },
  {
   "cell_type": "code",
   "execution_count": null,
   "metadata": {},
   "outputs": [],
   "source": []
  },
  {
   "cell_type": "markdown",
   "metadata": {},
   "source": [
    "# Optimization"
   ]
  },
  {
   "cell_type": "code",
   "execution_count": 12,
   "metadata": {},
   "outputs": [],
   "source": [
    "from sklearn.model_selection import GridSearchCV\n",
    "from sklearn.model_selection import RandomizedSearchCV\n",
    "from scipy.stats import randint"
   ]
  },
  {
   "cell_type": "markdown",
   "metadata": {},
   "source": [
    "## Random Forest"
   ]
  },
  {
   "cell_type": "code",
   "execution_count": 16,
   "metadata": {},
   "outputs": [
    {
     "name": "stdout",
     "output_type": "stream",
     "text": [
      "Fitting 3 folds for each of 6 candidates, totalling 18 fits\n",
      "[CV] min_samples_split=10, n_estimators=200, max_depth=10 ............\n",
      "[CV]  min_samples_split=10, n_estimators=200, max_depth=10, total=  28.9s\n",
      "[CV] min_samples_split=10, n_estimators=200, max_depth=10 ............\n"
     ]
    },
    {
     "name": "stderr",
     "output_type": "stream",
     "text": [
      "[Parallel(n_jobs=1)]: Done   1 out of   1 | elapsed:   31.3s remaining:    0.0s\n"
     ]
    },
    {
     "name": "stdout",
     "output_type": "stream",
     "text": [
      "[CV]  min_samples_split=10, n_estimators=200, max_depth=10, total=  30.1s\n",
      "[CV] min_samples_split=10, n_estimators=200, max_depth=10 ............\n",
      "[CV]  min_samples_split=10, n_estimators=200, max_depth=10, total=  31.4s\n",
      "[CV] min_samples_split=10, n_estimators=300, max_depth=10 ............\n",
      "[CV]  min_samples_split=10, n_estimators=300, max_depth=10, total=  45.5s\n",
      "[CV] min_samples_split=10, n_estimators=300, max_depth=10 ............\n",
      "[CV]  min_samples_split=10, n_estimators=300, max_depth=10, total=  44.2s\n",
      "[CV] min_samples_split=10, n_estimators=300, max_depth=10 ............\n",
      "[CV]  min_samples_split=10, n_estimators=300, max_depth=10, total=  44.3s\n",
      "[CV] min_samples_split=10, n_estimators=500, max_depth=10 ............\n",
      "[CV]  min_samples_split=10, n_estimators=500, max_depth=10, total= 1.2min\n",
      "[CV] min_samples_split=10, n_estimators=500, max_depth=10 ............\n",
      "[CV]  min_samples_split=10, n_estimators=500, max_depth=10, total= 1.2min\n",
      "[CV] min_samples_split=10, n_estimators=500, max_depth=10 ............\n",
      "[CV]  min_samples_split=10, n_estimators=500, max_depth=10, total= 1.2min\n",
      "[CV] min_samples_split=20, n_estimators=200, max_depth=10 ............\n",
      "[CV]  min_samples_split=20, n_estimators=200, max_depth=10, total=  29.1s\n",
      "[CV] min_samples_split=20, n_estimators=200, max_depth=10 ............\n",
      "[CV]  min_samples_split=20, n_estimators=200, max_depth=10, total=  29.9s\n",
      "[CV] min_samples_split=20, n_estimators=200, max_depth=10 ............\n",
      "[CV]  min_samples_split=20, n_estimators=200, max_depth=10, total=  29.6s\n",
      "[CV] min_samples_split=20, n_estimators=300, max_depth=10 ............\n",
      "[CV]  min_samples_split=20, n_estimators=300, max_depth=10, total=  44.8s\n",
      "[CV] min_samples_split=20, n_estimators=300, max_depth=10 ............\n",
      "[CV]  min_samples_split=20, n_estimators=300, max_depth=10, total=  43.2s\n",
      "[CV] min_samples_split=20, n_estimators=300, max_depth=10 ............\n",
      "[CV]  min_samples_split=20, n_estimators=300, max_depth=10, total=  44.3s\n",
      "[CV] min_samples_split=20, n_estimators=500, max_depth=10 ............\n",
      "[CV]  min_samples_split=20, n_estimators=500, max_depth=10, total= 1.2min\n",
      "[CV] min_samples_split=20, n_estimators=500, max_depth=10 ............\n",
      "[CV]  min_samples_split=20, n_estimators=500, max_depth=10, total= 1.3min\n",
      "[CV] min_samples_split=20, n_estimators=500, max_depth=10 ............\n",
      "[CV]  min_samples_split=20, n_estimators=500, max_depth=10, total= 1.2min\n"
     ]
    },
    {
     "name": "stderr",
     "output_type": "stream",
     "text": [
      "[Parallel(n_jobs=1)]: Done  18 out of  18 | elapsed: 15.9min finished\n"
     ]
    },
    {
     "data": {
      "text/plain": [
       "GridSearchCV(cv=3, error_score='raise',\n",
       "       estimator=RandomForestClassifier(bootstrap=True, class_weight=None, criterion='gini',\n",
       "            max_depth=None, max_features='auto', max_leaf_nodes=None,\n",
       "            min_impurity_decrease=0.0, min_impurity_split=None,\n",
       "            min_samples_leaf=1, min_samples_split=2,\n",
       "            min_weight_fraction_leaf=0.0, n_estimators=10, n_jobs=1,\n",
       "            oob_score=False, random_state=None, verbose=0,\n",
       "            warm_start=False),\n",
       "       fit_params=None, iid=True, n_jobs=1,\n",
       "       param_grid=[{'n_estimators': [200, 300, 500], 'min_samples_split': [10, 20], 'max_depth': [10]}],\n",
       "       pre_dispatch='2*n_jobs', refit=True, return_train_score=True,\n",
       "       scoring='roc_auc', verbose=2)"
      ]
     },
     "execution_count": 16,
     "metadata": {},
     "output_type": "execute_result"
    }
   ],
   "source": [
    "rf_param_grid = [\n",
    "    {#'n_estimators': [70, 80, 90], \n",
    "     #'max_features': [4, 6, 8], \n",
    "     #'max_depth': [15, 20, 25],\n",
    "     #'min_samples_split': [1, 10],\n",
    "     #'min_samples_leaf': [1, 10],\n",
    "     \n",
    "     #'n_estimators': [200,300,500], \n",
    "     'n_estimators': [200,300,500], \n",
    "     'max_depth': [10],\n",
    "     #'max_features': [40], \n",
    "     #'max_depth': [10,30,50],\n",
    "     #'min_samples_leaf': [10],\n",
    "     'min_samples_split': [10,20],\n",
    "     #'criterion': [\"gini\"]\n",
    "    }\n",
    "  ]\n",
    "\"\"\"                               \n",
    " grid best\n",
    "{'max_depth': 10, 'min_samples_split': 10, 'n_estimators': 500}\n",
    " rdn best\n",
    "{'max_depth': 45,\n",
    " 'max_features': 43,\n",
    " 'min_samples_leaf': 65,\n",
    " 'min_samples_split': 12,\n",
    " 'n_estimators': 320}\n",
    "\"\"\"\n",
    "rf_clf = RandomForestClassifier()\n",
    "rf_grid_search = GridSearchCV(rf_clf, rf_param_grid, cv=3,scoring=\"roc_auc\",refit=True, n_jobs=1,\n",
    "                           return_train_score=True,verbose=2)\n",
    "rf_grid_search.fit(X_train, y_train)"
   ]
  },
  {
   "cell_type": "code",
   "execution_count": 17,
   "metadata": {},
   "outputs": [
    {
     "data": {
      "text/plain": [
       "{'max_depth': 10, 'min_samples_split': 10, 'n_estimators': 500}"
      ]
     },
     "execution_count": 17,
     "metadata": {},
     "output_type": "execute_result"
    }
   ],
   "source": [
    "rf_grid_search.best_params_"
   ]
  },
  {
   "cell_type": "code",
   "execution_count": 18,
   "metadata": {},
   "outputs": [
    {
     "name": "stdout",
     "output_type": "stream",
     "text": [
      "(0.6951362054513108, {'min_samples_split': 10, 'n_estimators': 200, 'max_depth': 10})\n",
      "(0.6953872379904315, {'min_samples_split': 10, 'n_estimators': 300, 'max_depth': 10})\n",
      "(0.6954536426966826, {'min_samples_split': 10, 'n_estimators': 500, 'max_depth': 10})\n",
      "(0.69502110740016, {'min_samples_split': 20, 'n_estimators': 200, 'max_depth': 10})\n",
      "(0.695236303081846, {'min_samples_split': 20, 'n_estimators': 300, 'max_depth': 10})\n",
      "(0.6953450113788859, {'min_samples_split': 20, 'n_estimators': 500, 'max_depth': 10})\n"
     ]
    }
   ],
   "source": [
    "cvres = rf_grid_search.cv_results_\n",
    "for mean_score, params in zip(cvres[\"mean_test_score\"], cvres[\"params\"]):\n",
    "    print(mean_score, params)"
   ]
  },
  {
   "cell_type": "code",
   "execution_count": 21,
   "metadata": {
    "scrolled": true
   },
   "outputs": [
    {
     "name": "stdout",
     "output_type": "stream",
     "text": [
      "Fitting 3 folds for each of 10 candidates, totalling 30 fits\n",
      "[CV] max_features=49, min_samples_split=141, n_estimators=301, max_depth=41, min_samples_leaf=180 \n",
      "[CV] max_features=49, min_samples_split=141, n_estimators=301, max_depth=41, min_samples_leaf=180 \n",
      "[CV] max_features=49, min_samples_split=141, n_estimators=301, max_depth=41, min_samples_leaf=180 \n",
      "[CV] max_features=29, min_samples_split=116, n_estimators=301, max_depth=29, min_samples_leaf=85 \n",
      "[CV]  max_features=29, min_samples_split=116, n_estimators=301, max_depth=29, min_samples_leaf=85, total= 2.8min\n",
      "[CV] max_features=29, min_samples_split=116, n_estimators=301, max_depth=29, min_samples_leaf=85 \n",
      "[CV]  max_features=49, min_samples_split=141, n_estimators=301, max_depth=41, min_samples_leaf=180, total= 3.7min\n",
      "[CV] max_features=29, min_samples_split=116, n_estimators=301, max_depth=29, min_samples_leaf=85 \n",
      "[CV]  max_features=49, min_samples_split=141, n_estimators=301, max_depth=41, min_samples_leaf=180, total= 3.8min\n",
      "[CV]  max_features=49, min_samples_split=141, n_estimators=301, max_depth=41, min_samples_leaf=180, total= 3.8min\n",
      "[CV] max_features=42, min_samples_split=112, n_estimators=122, max_depth=46, min_samples_leaf=82 \n",
      "[CV] max_features=42, min_samples_split=112, n_estimators=122, max_depth=46, min_samples_leaf=82 \n",
      "[CV]  max_features=42, min_samples_split=112, n_estimators=122, max_depth=46, min_samples_leaf=82, total= 1.6min\n",
      "[CV] max_features=42, min_samples_split=112, n_estimators=122, max_depth=46, min_samples_leaf=82 \n",
      "[CV]  max_features=42, min_samples_split=112, n_estimators=122, max_depth=46, min_samples_leaf=82, total= 1.6min\n",
      "[CV] max_features=46, min_samples_split=19, n_estimators=205, max_depth=31, min_samples_leaf=142 \n",
      "[CV]  max_features=29, min_samples_split=116, n_estimators=301, max_depth=29, min_samples_leaf=85, total= 3.0min\n",
      "[CV] max_features=46, min_samples_split=19, n_estimators=205, max_depth=31, min_samples_leaf=142 \n",
      "[CV]  max_features=29, min_samples_split=116, n_estimators=301, max_depth=29, min_samples_leaf=85, total= 2.9min\n",
      "[CV] max_features=46, min_samples_split=19, n_estimators=205, max_depth=31, min_samples_leaf=142 \n",
      "[CV]  max_features=42, min_samples_split=112, n_estimators=122, max_depth=46, min_samples_leaf=82, total= 1.6min\n",
      "[CV] max_features=29, min_samples_split=172, n_estimators=208, max_depth=36, min_samples_leaf=11 \n",
      "[CV]  max_features=46, min_samples_split=19, n_estimators=205, max_depth=31, min_samples_leaf=142, total= 2.7min\n",
      "[CV] max_features=29, min_samples_split=172, n_estimators=208, max_depth=36, min_samples_leaf=11 \n",
      "[CV]  max_features=46, min_samples_split=19, n_estimators=205, max_depth=31, min_samples_leaf=142, total= 2.7min\n",
      "[CV] max_features=29, min_samples_split=172, n_estimators=208, max_depth=36, min_samples_leaf=11 \n",
      "[CV]  max_features=46, min_samples_split=19, n_estimators=205, max_depth=31, min_samples_leaf=142, total= 2.6min\n",
      "[CV] max_features=43, min_samples_split=12, n_estimators=320, max_depth=45, min_samples_leaf=65 \n",
      "[CV]  max_features=29, min_samples_split=172, n_estimators=208, max_depth=36, min_samples_leaf=11, total= 2.4min\n",
      "[CV] max_features=43, min_samples_split=12, n_estimators=320, max_depth=45, min_samples_leaf=65 \n",
      "[CV]  max_features=29, min_samples_split=172, n_estimators=208, max_depth=36, min_samples_leaf=11, total= 2.5min\n",
      "[CV] max_features=43, min_samples_split=12, n_estimators=320, max_depth=45, min_samples_leaf=65 \n",
      "[CV]  max_features=29, min_samples_split=172, n_estimators=208, max_depth=36, min_samples_leaf=11, total= 2.4min\n",
      "[CV] max_features=34, min_samples_split=169, n_estimators=378, max_depth=40, min_samples_leaf=68 \n",
      "[CV]  max_features=43, min_samples_split=12, n_estimators=320, max_depth=45, min_samples_leaf=65, total= 4.5min\n",
      "[CV] max_features=34, min_samples_split=169, n_estimators=378, max_depth=40, min_samples_leaf=68 \n",
      "[CV]  max_features=43, min_samples_split=12, n_estimators=320, max_depth=45, min_samples_leaf=65, total= 4.4min\n",
      "[CV] max_features=34, min_samples_split=169, n_estimators=378, max_depth=40, min_samples_leaf=68 \n",
      "[CV]  max_features=43, min_samples_split=12, n_estimators=320, max_depth=45, min_samples_leaf=65, total= 4.4min\n",
      "[CV] max_features=47, min_samples_split=106, n_estimators=75, max_depth=17, min_samples_leaf=23 \n",
      "[CV]  max_features=34, min_samples_split=169, n_estimators=378, max_depth=40, min_samples_leaf=68, total= 4.2min\n",
      "[CV] max_features=47, min_samples_split=106, n_estimators=75, max_depth=17, min_samples_leaf=23 \n",
      "[CV]  max_features=47, min_samples_split=106, n_estimators=75, max_depth=17, min_samples_leaf=23, total= 1.2min\n",
      "[CV] max_features=47, min_samples_split=106, n_estimators=75, max_depth=17, min_samples_leaf=23 \n",
      "[CV]  max_features=47, min_samples_split=106, n_estimators=75, max_depth=17, min_samples_leaf=23, total= 1.2min\n",
      "[CV] max_features=33, min_samples_split=80, n_estimators=253, max_depth=15, min_samples_leaf=68 \n",
      "[CV]  max_features=47, min_samples_split=106, n_estimators=75, max_depth=17, min_samples_leaf=23, total= 1.1min\n",
      "[CV] max_features=33, min_samples_split=80, n_estimators=253, max_depth=15, min_samples_leaf=68 \n",
      "[CV]  max_features=34, min_samples_split=169, n_estimators=378, max_depth=40, min_samples_leaf=68, total= 4.2min\n",
      "[CV] max_features=33, min_samples_split=80, n_estimators=253, max_depth=15, min_samples_leaf=68 \n",
      "[CV]  max_features=34, min_samples_split=169, n_estimators=378, max_depth=40, min_samples_leaf=68, total= 4.2min\n",
      "[CV] max_features=20, min_samples_split=105, n_estimators=238, max_depth=25, min_samples_leaf=185 \n",
      "[CV]  max_features=33, min_samples_split=80, n_estimators=253, max_depth=15, min_samples_leaf=68, total= 2.7min\n",
      "[CV] max_features=20, min_samples_split=105, n_estimators=238, max_depth=25, min_samples_leaf=185 \n",
      "[CV]  max_features=20, min_samples_split=105, n_estimators=238, max_depth=25, min_samples_leaf=185, total= 1.5min\n",
      "[CV] max_features=20, min_samples_split=105, n_estimators=238, max_depth=25, min_samples_leaf=185 \n",
      "[CV]  max_features=33, min_samples_split=80, n_estimators=253, max_depth=15, min_samples_leaf=68, total= 2.8min\n",
      "[CV]  max_features=33, min_samples_split=80, n_estimators=253, max_depth=15, min_samples_leaf=68, total= 2.6min\n",
      "[CV]  max_features=20, min_samples_split=105, n_estimators=238, max_depth=25, min_samples_leaf=185, total= 1.5min\n",
      "[CV]  max_features=20, min_samples_split=105, n_estimators=238, max_depth=25, min_samples_leaf=185, total= 1.4min\n"
     ]
    },
    {
     "name": "stderr",
     "output_type": "stream",
     "text": [
      "[Parallel(n_jobs=4)]: Done  30 out of  30 | elapsed: 21.6min finished\n"
     ]
    },
    {
     "data": {
      "text/plain": [
       "RandomizedSearchCV(cv=3, error_score='raise',\n",
       "          estimator=RandomForestClassifier(bootstrap=True, class_weight=None, criterion='gini',\n",
       "            max_depth=None, max_features='auto', max_leaf_nodes=None,\n",
       "            min_impurity_decrease=0.0, min_impurity_split=None,\n",
       "            min_samples_leaf=1, min_samples_split=2,\n",
       "            min_weight_fraction_leaf=0.0, n_estimators=10, n_jobs=1,\n",
       "            oob_score=False, random_state=None, verbose=0,\n",
       "            warm_start=False),\n",
       "          fit_params=None, iid=True, n_iter=10, n_jobs=4,\n",
       "          param_distributions={'n_estimators': <scipy.stats._distn_infrastructure.rv_frozen object at 0x7f0c45908090>, 'max_features': <scipy.stats._distn_infrastructure.rv_frozen object at 0x7f0c459085d0>, 'min_samples_split': <scipy.stats._distn_infrastructure.rv_frozen object at 0x7f0c45908350>, 'max_depth': <scipy.stats._distn_infrastructure.rv_frozen object at 0x7f0c45908650>, 'min_samples_leaf': <scipy.stats._distn_infrastructure.rv_frozen object at 0x7f0c45908e10>},\n",
       "          pre_dispatch='2*n_jobs', random_state=None, refit=True,\n",
       "          return_train_score='warn', scoring='roc_auc', verbose=2)"
      ]
     },
     "execution_count": 21,
     "metadata": {},
     "output_type": "execute_result"
    }
   ],
   "source": [
    "param_distribs = {\n",
    "        'n_estimators': randint(low=50, high=500),\n",
    "        'max_features': randint(low=20, high=50),\n",
    "        'max_depth': randint(low=10, high=50),\n",
    "        'min_samples_split': randint(low=10, high=200),\n",
    "        'min_samples_leaf': randint(low=10, high=200),    \n",
    "    }\n",
    "\"\"\"\n",
    " \n",
    "{'max_depth': 45,\n",
    " 'max_features': 43,\n",
    " 'min_samples_leaf': 65,\n",
    " 'min_samples_split': 12,\n",
    " 'n_estimators': 320}\n",
    "\"\"\"\n",
    "rf_clf = RandomForestClassifier(criterion='gini')\n",
    "rf_rnd_search = RandomizedSearchCV(rf_clf, param_distributions=param_distribs,refit=False, n_jobs=4,\n",
    "                                n_iter=10, cv=3, scoring='roc_auc',verbose=2)\n",
    "rf_rnd_search.fit(X_train, y_train)"
   ]
  },
  {
   "cell_type": "code",
   "execution_count": 22,
   "metadata": {},
   "outputs": [
    {
     "data": {
      "text/plain": [
       "{'max_depth': 45,\n",
       " 'max_features': 43,\n",
       " 'min_samples_leaf': 65,\n",
       " 'min_samples_split': 12,\n",
       " 'n_estimators': 320}"
      ]
     },
     "execution_count": 22,
     "metadata": {},
     "output_type": "execute_result"
    }
   ],
   "source": [
    "rf_rnd_search.best_params_"
   ]
  },
  {
   "cell_type": "code",
   "execution_count": 23,
   "metadata": {},
   "outputs": [
    {
     "name": "stdout",
     "output_type": "stream",
     "text": [
      "(0.703751274011472, {'max_features': 49, 'min_samples_split': 141, 'n_estimators': 301, 'max_depth': 41, 'min_samples_leaf': 180})\n",
      "(0.7033273987500399, {'max_features': 29, 'min_samples_split': 116, 'n_estimators': 301, 'max_depth': 29, 'min_samples_leaf': 85})\n",
      "(0.704307638381162, {'max_features': 42, 'min_samples_split': 112, 'n_estimators': 122, 'max_depth': 46, 'min_samples_leaf': 82})\n",
      "(0.7040059813360441, {'max_features': 46, 'min_samples_split': 19, 'n_estimators': 205, 'max_depth': 31, 'min_samples_leaf': 142})\n",
      "(0.7034879632282824, {'max_features': 29, 'min_samples_split': 172, 'n_estimators': 208, 'max_depth': 36, 'min_samples_leaf': 11})\n",
      "(0.7047649178262636, {'max_features': 43, 'min_samples_split': 12, 'n_estimators': 320, 'max_depth': 45, 'min_samples_leaf': 65})\n",
      "(0.7041139464825946, {'max_features': 34, 'min_samples_split': 169, 'n_estimators': 378, 'max_depth': 40, 'min_samples_leaf': 68})\n",
      "(0.7033887701860477, {'max_features': 47, 'min_samples_split': 106, 'n_estimators': 75, 'max_depth': 17, 'min_samples_leaf': 23})\n",
      "(0.7038284258077141, {'max_features': 33, 'min_samples_split': 80, 'n_estimators': 253, 'max_depth': 15, 'min_samples_leaf': 68})\n",
      "(0.6989764425488372, {'max_features': 20, 'min_samples_split': 105, 'n_estimators': 238, 'max_depth': 25, 'min_samples_leaf': 185})\n"
     ]
    }
   ],
   "source": [
    "cvres = rf_rnd_search.cv_results_\n",
    "for mean_score, params in zip(cvres[\"mean_test_score\"], cvres[\"params\"]):\n",
    "    print(mean_score, params)"
   ]
  },
  {
   "cell_type": "markdown",
   "metadata": {},
   "source": [
    "## Light GBM"
   ]
  },
  {
   "cell_type": "code",
   "execution_count": 24,
   "metadata": {
    "scrolled": true
   },
   "outputs": [
    {
     "name": "stdout",
     "output_type": "stream",
     "text": [
      "Fitting 3 folds for each of 3 candidates, totalling 9 fits\n",
      "[CV] n_estimators=500, learning_rate=0.05, max_depth=10, min_data_in_leaf=200 \n",
      "[CV] n_estimators=500, learning_rate=0.05, max_depth=10, min_data_in_leaf=200 \n",
      "[CV] n_estimators=500, learning_rate=0.05, max_depth=10, min_data_in_leaf=200 \n",
      "[CV] n_estimators=500, learning_rate=0.05, max_depth=10, min_data_in_leaf=300 \n",
      "[CV] n_estimators=500, learning_rate=0.05, max_depth=10, min_data_in_leaf=300 \n",
      "[CV] n_estimators=500, learning_rate=0.05, max_depth=10, min_data_in_leaf=300 \n"
     ]
    },
    {
     "ename": "KeyboardInterrupt",
     "evalue": "",
     "output_type": "error",
     "traceback": [
      "\u001b[0;31m---------------------------------------------------------------------------\u001b[0m",
      "\u001b[0;31mKeyboardInterrupt\u001b[0m                         Traceback (most recent call last)",
      "\u001b[0;32m<ipython-input-24-2481750c8d2a>\u001b[0m in \u001b[0;36m<module>\u001b[0;34m()\u001b[0m\n\u001b[1;32m     27\u001b[0m lgb_grid_search = GridSearchCV(lgb_clf, lgb_param_grid, cv=3,scoring=\"roc_auc\",refit=False, n_jobs=4,\n\u001b[1;32m     28\u001b[0m                            return_train_score=True,verbose=2)\n\u001b[0;32m---> 29\u001b[0;31m \u001b[0mlgb_grid_search\u001b[0m\u001b[0;34m.\u001b[0m\u001b[0mfit\u001b[0m\u001b[0;34m(\u001b[0m\u001b[0mX_train\u001b[0m\u001b[0;34m,\u001b[0m \u001b[0my_train\u001b[0m\u001b[0;34m)\u001b[0m\u001b[0;34m\u001b[0m\u001b[0m\n\u001b[0m",
      "\u001b[0;32m/usr/local/lib/python2.7/dist-packages/sklearn/model_selection/_search.pyc\u001b[0m in \u001b[0;36mfit\u001b[0;34m(self, X, y, groups, **fit_params)\u001b[0m\n\u001b[1;32m    637\u001b[0m                                   error_score=self.error_score)\n\u001b[1;32m    638\u001b[0m           for parameters, (train, test) in product(candidate_params,\n\u001b[0;32m--> 639\u001b[0;31m                                                    cv.split(X, y, groups)))\n\u001b[0m\u001b[1;32m    640\u001b[0m \u001b[0;34m\u001b[0m\u001b[0m\n\u001b[1;32m    641\u001b[0m         \u001b[0;31m# if one choose to see train score, \"out\" will contain train score info\u001b[0m\u001b[0;34m\u001b[0m\u001b[0;34m\u001b[0m\u001b[0m\n",
      "\u001b[0;32m/usr/local/lib/python2.7/dist-packages/sklearn/externals/joblib/parallel.pyc\u001b[0m in \u001b[0;36m__call__\u001b[0;34m(self, iterable)\u001b[0m\n\u001b[1;32m    787\u001b[0m                 \u001b[0;31m# consumption.\u001b[0m\u001b[0;34m\u001b[0m\u001b[0;34m\u001b[0m\u001b[0m\n\u001b[1;32m    788\u001b[0m                 \u001b[0mself\u001b[0m\u001b[0;34m.\u001b[0m\u001b[0m_iterating\u001b[0m \u001b[0;34m=\u001b[0m \u001b[0mFalse\u001b[0m\u001b[0;34m\u001b[0m\u001b[0m\n\u001b[0;32m--> 789\u001b[0;31m             \u001b[0mself\u001b[0m\u001b[0;34m.\u001b[0m\u001b[0mretrieve\u001b[0m\u001b[0;34m(\u001b[0m\u001b[0;34m)\u001b[0m\u001b[0;34m\u001b[0m\u001b[0m\n\u001b[0m\u001b[1;32m    790\u001b[0m             \u001b[0;31m# Make sure that we get a last message telling us we are done\u001b[0m\u001b[0;34m\u001b[0m\u001b[0;34m\u001b[0m\u001b[0m\n\u001b[1;32m    791\u001b[0m             \u001b[0melapsed_time\u001b[0m \u001b[0;34m=\u001b[0m \u001b[0mtime\u001b[0m\u001b[0;34m.\u001b[0m\u001b[0mtime\u001b[0m\u001b[0;34m(\u001b[0m\u001b[0;34m)\u001b[0m \u001b[0;34m-\u001b[0m \u001b[0mself\u001b[0m\u001b[0;34m.\u001b[0m\u001b[0m_start_time\u001b[0m\u001b[0;34m\u001b[0m\u001b[0m\n",
      "\u001b[0;32m/usr/local/lib/python2.7/dist-packages/sklearn/externals/joblib/parallel.pyc\u001b[0m in \u001b[0;36mretrieve\u001b[0;34m(self)\u001b[0m\n\u001b[1;32m    697\u001b[0m             \u001b[0;32mtry\u001b[0m\u001b[0;34m:\u001b[0m\u001b[0;34m\u001b[0m\u001b[0m\n\u001b[1;32m    698\u001b[0m                 \u001b[0;32mif\u001b[0m \u001b[0mgetattr\u001b[0m\u001b[0;34m(\u001b[0m\u001b[0mself\u001b[0m\u001b[0;34m.\u001b[0m\u001b[0m_backend\u001b[0m\u001b[0;34m,\u001b[0m \u001b[0;34m'supports_timeout'\u001b[0m\u001b[0;34m,\u001b[0m \u001b[0mFalse\u001b[0m\u001b[0;34m)\u001b[0m\u001b[0;34m:\u001b[0m\u001b[0;34m\u001b[0m\u001b[0m\n\u001b[0;32m--> 699\u001b[0;31m                     \u001b[0mself\u001b[0m\u001b[0;34m.\u001b[0m\u001b[0m_output\u001b[0m\u001b[0;34m.\u001b[0m\u001b[0mextend\u001b[0m\u001b[0;34m(\u001b[0m\u001b[0mjob\u001b[0m\u001b[0;34m.\u001b[0m\u001b[0mget\u001b[0m\u001b[0;34m(\u001b[0m\u001b[0mtimeout\u001b[0m\u001b[0;34m=\u001b[0m\u001b[0mself\u001b[0m\u001b[0;34m.\u001b[0m\u001b[0mtimeout\u001b[0m\u001b[0;34m)\u001b[0m\u001b[0;34m)\u001b[0m\u001b[0;34m\u001b[0m\u001b[0m\n\u001b[0m\u001b[1;32m    700\u001b[0m                 \u001b[0;32melse\u001b[0m\u001b[0;34m:\u001b[0m\u001b[0;34m\u001b[0m\u001b[0m\n\u001b[1;32m    701\u001b[0m                     \u001b[0mself\u001b[0m\u001b[0;34m.\u001b[0m\u001b[0m_output\u001b[0m\u001b[0;34m.\u001b[0m\u001b[0mextend\u001b[0m\u001b[0;34m(\u001b[0m\u001b[0mjob\u001b[0m\u001b[0;34m.\u001b[0m\u001b[0mget\u001b[0m\u001b[0;34m(\u001b[0m\u001b[0;34m)\u001b[0m\u001b[0;34m)\u001b[0m\u001b[0;34m\u001b[0m\u001b[0m\n",
      "\u001b[0;32m/usr/lib/python2.7/multiprocessing/pool.py\u001b[0m in \u001b[0;36mget\u001b[0;34m(self, timeout)\u001b[0m\n\u001b[1;32m    559\u001b[0m \u001b[0;34m\u001b[0m\u001b[0m\n\u001b[1;32m    560\u001b[0m     \u001b[0;32mdef\u001b[0m \u001b[0mget\u001b[0m\u001b[0;34m(\u001b[0m\u001b[0mself\u001b[0m\u001b[0;34m,\u001b[0m \u001b[0mtimeout\u001b[0m\u001b[0;34m=\u001b[0m\u001b[0mNone\u001b[0m\u001b[0;34m)\u001b[0m\u001b[0;34m:\u001b[0m\u001b[0;34m\u001b[0m\u001b[0m\n\u001b[0;32m--> 561\u001b[0;31m         \u001b[0mself\u001b[0m\u001b[0;34m.\u001b[0m\u001b[0mwait\u001b[0m\u001b[0;34m(\u001b[0m\u001b[0mtimeout\u001b[0m\u001b[0;34m)\u001b[0m\u001b[0;34m\u001b[0m\u001b[0m\n\u001b[0m\u001b[1;32m    562\u001b[0m         \u001b[0;32mif\u001b[0m \u001b[0;32mnot\u001b[0m \u001b[0mself\u001b[0m\u001b[0;34m.\u001b[0m\u001b[0m_ready\u001b[0m\u001b[0;34m:\u001b[0m\u001b[0;34m\u001b[0m\u001b[0m\n\u001b[1;32m    563\u001b[0m             \u001b[0;32mraise\u001b[0m \u001b[0mTimeoutError\u001b[0m\u001b[0;34m\u001b[0m\u001b[0m\n",
      "\u001b[0;32m/usr/lib/python2.7/multiprocessing/pool.py\u001b[0m in \u001b[0;36mwait\u001b[0;34m(self, timeout)\u001b[0m\n\u001b[1;32m    554\u001b[0m         \u001b[0;32mtry\u001b[0m\u001b[0;34m:\u001b[0m\u001b[0;34m\u001b[0m\u001b[0m\n\u001b[1;32m    555\u001b[0m             \u001b[0;32mif\u001b[0m \u001b[0;32mnot\u001b[0m \u001b[0mself\u001b[0m\u001b[0;34m.\u001b[0m\u001b[0m_ready\u001b[0m\u001b[0;34m:\u001b[0m\u001b[0;34m\u001b[0m\u001b[0m\n\u001b[0;32m--> 556\u001b[0;31m                 \u001b[0mself\u001b[0m\u001b[0;34m.\u001b[0m\u001b[0m_cond\u001b[0m\u001b[0;34m.\u001b[0m\u001b[0mwait\u001b[0m\u001b[0;34m(\u001b[0m\u001b[0mtimeout\u001b[0m\u001b[0;34m)\u001b[0m\u001b[0;34m\u001b[0m\u001b[0m\n\u001b[0m\u001b[1;32m    557\u001b[0m         \u001b[0;32mfinally\u001b[0m\u001b[0;34m:\u001b[0m\u001b[0;34m\u001b[0m\u001b[0m\n\u001b[1;32m    558\u001b[0m             \u001b[0mself\u001b[0m\u001b[0;34m.\u001b[0m\u001b[0m_cond\u001b[0m\u001b[0;34m.\u001b[0m\u001b[0mrelease\u001b[0m\u001b[0;34m(\u001b[0m\u001b[0;34m)\u001b[0m\u001b[0;34m\u001b[0m\u001b[0m\n",
      "\u001b[0;32m/usr/lib/python2.7/threading.pyc\u001b[0m in \u001b[0;36mwait\u001b[0;34m(self, timeout)\u001b[0m\n\u001b[1;32m    338\u001b[0m         \u001b[0;32mtry\u001b[0m\u001b[0;34m:\u001b[0m    \u001b[0;31m# restore state no matter what (e.g., KeyboardInterrupt)\u001b[0m\u001b[0;34m\u001b[0m\u001b[0m\n\u001b[1;32m    339\u001b[0m             \u001b[0;32mif\u001b[0m \u001b[0mtimeout\u001b[0m \u001b[0;32mis\u001b[0m \u001b[0mNone\u001b[0m\u001b[0;34m:\u001b[0m\u001b[0;34m\u001b[0m\u001b[0m\n\u001b[0;32m--> 340\u001b[0;31m                 \u001b[0mwaiter\u001b[0m\u001b[0;34m.\u001b[0m\u001b[0macquire\u001b[0m\u001b[0;34m(\u001b[0m\u001b[0;34m)\u001b[0m\u001b[0;34m\u001b[0m\u001b[0m\n\u001b[0m\u001b[1;32m    341\u001b[0m                 \u001b[0;32mif\u001b[0m \u001b[0m__debug__\u001b[0m\u001b[0;34m:\u001b[0m\u001b[0;34m\u001b[0m\u001b[0m\n\u001b[1;32m    342\u001b[0m                     \u001b[0mself\u001b[0m\u001b[0;34m.\u001b[0m\u001b[0m_note\u001b[0m\u001b[0;34m(\u001b[0m\u001b[0;34m\"%s.wait(): got it\"\u001b[0m\u001b[0;34m,\u001b[0m \u001b[0mself\u001b[0m\u001b[0;34m)\u001b[0m\u001b[0;34m\u001b[0m\u001b[0m\n",
      "\u001b[0;31mKeyboardInterrupt\u001b[0m: "
     ]
    }
   ],
   "source": [
    "lgb_param_grid = [\n",
    "    {\n",
    "     #'n_estimators': [500], \n",
    "     'n_estimators': [500], \n",
    "     'learning_rate': [0.05],\n",
    "     #'max_features': [40], \n",
    "     'max_depth': [10],\n",
    "     #'max_depth': [10, 20],\n",
    "     'min_data_in_leaf': [200,300,400],\n",
    "     #'criterion': [\"gini\"]\n",
    "    }\n",
    "  ]\n",
    "\"\"\"                               \n",
    " grid best\n",
    "{'learning_rate': 0.01,\n",
    " 'max_depth': 20,\n",
    " 'min_data_in_leaf': 100,\n",
    " 'n_estimators': 600}\n",
    "\"\"\"\n",
    "lgb_clf = LGBMClassifier(boosting_type='gbdt', objective='binary')\n",
    "                       #num_class=9,,num_iteration=10000,num_leaves=31,\n",
    "                       #is_enable_sparse='true',tree_learner='data',min_data_in_leaf=600,max_depth=4,\n",
    "                       #learning_rate=0.01,  max_bin=255, subsample_for_bin=50000, \n",
    "                       #min_split_gain=5, min_child_weight=5, min_child_samples=10, subsample=0.995, \n",
    "                       #subsample_freq=1, colsample_bytree=1, reg_alpha=0, \n",
    "                       #reg_lambda=0, seed=0, nthread=-1, silent=True\n",
    "lgb_grid_search = GridSearchCV(lgb_clf, lgb_param_grid, cv=3,scoring=\"roc_auc\",refit=False, n_jobs=4,\n",
    "                           return_train_score=True,verbose=2)\n",
    "lgb_grid_search.fit(X_train, y_train)"
   ]
  },
  {
   "cell_type": "code",
   "execution_count": 22,
   "metadata": {},
   "outputs": [
    {
     "data": {
      "text/plain": [
       "{'learning_rate': 0.05,\n",
       " 'max_depth': 10,\n",
       " 'min_data_in_leaf': 200,\n",
       " 'n_estimators': 500}"
      ]
     },
     "execution_count": 22,
     "metadata": {},
     "output_type": "execute_result"
    }
   ],
   "source": [
    "lgb_grid_search.best_params_"
   ]
  },
  {
   "cell_type": "code",
   "execution_count": null,
   "metadata": {},
   "outputs": [],
   "source": [
    "{'learning_rate': 0.05,\n",
    " 'max_depth': 10,\n",
    " 'min_data_in_leaf': 200,\n",
    " 'n_estimators': 500}"
   ]
  },
  {
   "cell_type": "code",
   "execution_count": 23,
   "metadata": {},
   "outputs": [
    {
     "name": "stdout",
     "output_type": "stream",
     "text": [
      "(0.7608620188598462, {'n_estimators': 500, 'learning_rate': 0.05, 'max_depth': 10, 'min_data_in_leaf': 50})\n",
      "(0.7616944260949423, {'n_estimators': 500, 'learning_rate': 0.05, 'max_depth': 10, 'min_data_in_leaf': 100})\n",
      "BEST\n",
      "(0.7621790010388885, {'n_estimators': 500, 'learning_rate': 0.05, 'max_depth': 10, 'min_data_in_leaf': 200})\n"
     ]
    }
   ],
   "source": [
    "cvres = lgb_grid_search.cv_results_\n",
    "for mean_score, params in zip(cvres[\"mean_test_score\"], cvres[\"params\"]):\n",
    "    if (params == lgb_grid_search.best_params_):print(\"BEST\")\n",
    "    print(mean_score, params)"
   ]
  },
  {
   "cell_type": "code",
   "execution_count": 11,
   "metadata": {},
   "outputs": [
    {
     "ename": "NameError",
     "evalue": "name 'randint' is not defined",
     "output_type": "error",
     "traceback": [
      "\u001b[0;31m---------------------------------------------------------------------------\u001b[0m",
      "\u001b[0;31mNameError\u001b[0m                                 Traceback (most recent call last)",
      "\u001b[0;32m<ipython-input-11-98f66bcace38>\u001b[0m in \u001b[0;36m<module>\u001b[0;34m()\u001b[0m\n\u001b[1;32m      1\u001b[0m param_distribs = {\n\u001b[1;32m      2\u001b[0m         \u001b[0;34m'learning_rate'\u001b[0m\u001b[0;34m:\u001b[0m \u001b[0;34m[\u001b[0m\u001b[0;36m0.1\u001b[0m\u001b[0;34m,\u001b[0m\u001b[0;36m0.5\u001b[0m\u001b[0;34m,\u001b[0m\u001b[0;36m0.05\u001b[0m\u001b[0;34m]\u001b[0m\u001b[0;34m,\u001b[0m\u001b[0;34m\u001b[0m\u001b[0m\n\u001b[0;32m----> 3\u001b[0;31m         \u001b[0;34m'max_features'\u001b[0m\u001b[0;34m:\u001b[0m \u001b[0mrandint\u001b[0m\u001b[0;34m(\u001b[0m\u001b[0mlow\u001b[0m\u001b[0;34m=\u001b[0m\u001b[0;36m20\u001b[0m\u001b[0;34m,\u001b[0m \u001b[0mhigh\u001b[0m\u001b[0;34m=\u001b[0m\u001b[0;36m50\u001b[0m\u001b[0;34m)\u001b[0m\u001b[0;34m,\u001b[0m\u001b[0;34m\u001b[0m\u001b[0m\n\u001b[0m\u001b[1;32m      4\u001b[0m         \u001b[0;34m'max_depth'\u001b[0m\u001b[0;34m:\u001b[0m \u001b[0mrandint\u001b[0m\u001b[0;34m(\u001b[0m\u001b[0mlow\u001b[0m\u001b[0;34m=\u001b[0m\u001b[0;36m10\u001b[0m\u001b[0;34m,\u001b[0m \u001b[0mhigh\u001b[0m\u001b[0;34m=\u001b[0m\u001b[0;36m50\u001b[0m\u001b[0;34m)\u001b[0m\u001b[0;34m,\u001b[0m\u001b[0;34m\u001b[0m\u001b[0m\n\u001b[1;32m      5\u001b[0m         \u001b[0;34m'n_estimators'\u001b[0m\u001b[0;34m:\u001b[0m \u001b[0mrandint\u001b[0m\u001b[0;34m(\u001b[0m\u001b[0mlow\u001b[0m\u001b[0;34m=\u001b[0m\u001b[0;36m400\u001b[0m\u001b[0;34m,\u001b[0m \u001b[0mhigh\u001b[0m\u001b[0;34m=\u001b[0m\u001b[0;36m800\u001b[0m\u001b[0;34m)\u001b[0m\u001b[0;34m,\u001b[0m\u001b[0;34m\u001b[0m\u001b[0m\n",
      "\u001b[0;31mNameError\u001b[0m: name 'randint' is not defined"
     ]
    }
   ],
   "source": [
    "param_distribs = {\n",
    "        'learning_rate': [0.1,0.5,0.05],\n",
    "        'max_features': randint(low=20, high=50),\n",
    "        'max_depth': randint(low=10, high=50),\n",
    "        'n_estimators': randint(low=400, high=800),\n",
    "        'min_data_in_leaf': randint(low=10, high=300),    \n",
    "    }\n",
    "\"\"\"\n",
    " \n",
    "{'learning_rate': 0.01,\n",
    " 'max_depth': 20,\n",
    " 'min_data_in_leaf': 100,\n",
    " 'n_estimators': 600}\n",
    "\"\"\"\n",
    "lgb_clf = LGBMClassifier(boosting_type='gbdt', objective='binary')\n",
    "\n",
    "lgb_rnd_search = RandomizedSearchCV(lgb_clf, param_distributions=param_distribs,refit=False, n_jobs=4,\n",
    "                                n_iter=4, cv=3, scoring='roc_auc',verbose=2)\n",
    "lgb_rnd_search.fit(X_train, y_train)"
   ]
  },
  {
   "cell_type": "code",
   "execution_count": null,
   "metadata": {},
   "outputs": [],
   "source": []
  },
  {
   "cell_type": "code",
   "execution_count": null,
   "metadata": {},
   "outputs": [],
   "source": []
  },
  {
   "cell_type": "code",
   "execution_count": null,
   "metadata": {},
   "outputs": [],
   "source": []
  },
  {
   "cell_type": "markdown",
   "metadata": {},
   "source": [
    "## KNearest Neighbors"
   ]
  },
  {
   "cell_type": "code",
   "execution_count": 72,
   "metadata": {},
   "outputs": [
    {
     "name": "stdout",
     "output_type": "stream",
     "text": [
      "Fitting 3 folds for each of 2 candidates, totalling 6 fits\n",
      "[CV] n_neighbors=200, p=1 ............................................\n",
      "[CV] n_neighbors=200, p=1 ............................................\n",
      "[CV] n_neighbors=200, p=1 ............................................\n",
      "[CV] n_neighbors=200, p=2 ............................................\n",
      "[CV] ............................. n_neighbors=200, p=2, total= 1.1min\n",
      "[CV] n_neighbors=200, p=2 ............................................\n",
      "[CV] ............................. n_neighbors=200, p=1, total= 1.7min\n",
      "[CV] n_neighbors=200, p=2 ............................................\n",
      "[CV] ............................. n_neighbors=200, p=1, total= 1.8min\n",
      "[CV] ............................. n_neighbors=200, p=1, total= 1.8min\n"
     ]
    },
    {
     "name": "stderr",
     "output_type": "stream",
     "text": [
      "[Parallel(n_jobs=4)]: Done   3 out of   6 | elapsed:  5.1min remaining:  5.1min\n"
     ]
    },
    {
     "name": "stdout",
     "output_type": "stream",
     "text": [
      "[CV] ............................. n_neighbors=200, p=2, total= 1.1min\n",
      "[CV] ............................. n_neighbors=200, p=2, total=  55.9s\n"
     ]
    },
    {
     "name": "stderr",
     "output_type": "stream",
     "text": [
      "[Parallel(n_jobs=4)]: Done   6 out of   6 | elapsed:  7.6min finished\n"
     ]
    },
    {
     "data": {
      "text/plain": [
       "GridSearchCV(cv=3, error_score='raise',\n",
       "       estimator=KNeighborsClassifier(algorithm='auto', leaf_size=30, metric='minkowski',\n",
       "           metric_params=None, n_jobs=1, n_neighbors=5, p=2,\n",
       "           weights='uniform'),\n",
       "       fit_params=None, iid=True, n_jobs=4,\n",
       "       param_grid=[{'n_neighbors': [200], 'p': [1, 2]}],\n",
       "       pre_dispatch='2*n_jobs', refit=True, return_train_score=True,\n",
       "       scoring='roc_auc', verbose=2)"
      ]
     },
     "execution_count": 72,
     "metadata": {},
     "output_type": "execute_result"
    }
   ],
   "source": [
    "knn_param_grid = [\n",
    "    {'n_neighbors': [200], \n",
    "     'p': [1,2]\n",
    "    }\n",
    "  ]\n",
    "\"\"\"\n",
    "grid\n",
    "{u'n_neighbors': 200, u'p': 1}\n",
    "\"\"\"\n",
    "knn_clf = KNeighborsClassifier()\n",
    "    \n",
    "knn_grid_search = GridSearchCV(knn_clf, \n",
    "                               knn_param_grid, \n",
    "                               cv=3,\n",
    "                               scoring=\"roc_auc\",\n",
    "                               return_train_score=True, n_jobs=4,\n",
    "                               verbose=2)\n",
    "knn_grid_search.fit(X_train, y_train)"
   ]
  },
  {
   "cell_type": "code",
   "execution_count": null,
   "metadata": {},
   "outputs": [],
   "source": [
    "knn_grid_search.best_params_"
   ]
  },
  {
   "cell_type": "code",
   "execution_count": 74,
   "metadata": {},
   "outputs": [
    {
     "name": "stdout",
     "output_type": "stream",
     "text": [
      "(0.6852949704409353, {'n_neighbors': 200, 'p': 1})\n",
      "(0.6841955788242695, {'n_neighbors': 200, 'p': 2})\n"
     ]
    }
   ],
   "source": [
    "cvres = knn_grid_search.cv_results_\n",
    "for mean_score, params in zip(cvres[\"mean_test_score\"], cvres[\"params\"]):\n",
    "    print(mean_score, params)"
   ]
  },
  {
   "cell_type": "markdown",
   "metadata": {},
   "source": [
    "## Gradient Boost"
   ]
  },
  {
   "cell_type": "code",
   "execution_count": 39,
   "metadata": {},
   "outputs": [
    {
     "name": "stdout",
     "output_type": "stream",
     "text": [
      "Fitting 3 folds for each of 6 candidates, totalling 18 fits\n",
      "[CV] n_estimators=200, learning_rate=0.1, max_depth=5 ................\n",
      "[CV] n_estimators=200, learning_rate=0.1, max_depth=5 ................\n",
      "[CV] n_estimators=200, learning_rate=0.1, max_depth=5 ................\n",
      "[CV] n_estimators=300, learning_rate=0.1, max_depth=5 ................\n",
      "[CV] . n_estimators=200, learning_rate=0.1, max_depth=5, total= 3.2min\n",
      "[CV] n_estimators=300, learning_rate=0.1, max_depth=5 ................\n",
      "[CV] . n_estimators=200, learning_rate=0.1, max_depth=5, total= 3.2min\n",
      "[CV] n_estimators=300, learning_rate=0.1, max_depth=5 ................\n",
      "[CV] . n_estimators=200, learning_rate=0.1, max_depth=5, total= 3.3min\n",
      "[CV] n_estimators=500, learning_rate=0.1, max_depth=5 ................\n",
      "[CV] . n_estimators=300, learning_rate=0.1, max_depth=5, total= 4.5min\n",
      "[CV] n_estimators=500, learning_rate=0.1, max_depth=5 ................\n",
      "[CV] . n_estimators=300, learning_rate=0.1, max_depth=5, total= 4.1min\n",
      "[CV] n_estimators=500, learning_rate=0.1, max_depth=5 ................\n",
      "[CV] . n_estimators=300, learning_rate=0.1, max_depth=5, total= 4.1min\n",
      "[CV] n_estimators=200, learning_rate=0.01, max_depth=5 ...............\n",
      "[CV] . n_estimators=500, learning_rate=0.1, max_depth=5, total= 6.8min\n",
      "[CV] n_estimators=200, learning_rate=0.01, max_depth=5 ...............\n",
      "[CV]  n_estimators=200, learning_rate=0.01, max_depth=5, total= 3.0min\n",
      "[CV] n_estimators=200, learning_rate=0.01, max_depth=5 ...............\n",
      "[CV] . n_estimators=500, learning_rate=0.1, max_depth=5, total= 6.9min\n",
      "[CV] n_estimators=300, learning_rate=0.01, max_depth=5 ...............\n",
      "[CV]  n_estimators=200, learning_rate=0.01, max_depth=5, total= 2.8min\n",
      "[CV] n_estimators=300, learning_rate=0.01, max_depth=5 ...............\n",
      "[CV]  n_estimators=200, learning_rate=0.01, max_depth=5, total= 2.8min\n",
      "[CV] n_estimators=300, learning_rate=0.01, max_depth=5 ...............\n",
      "[CV] . n_estimators=500, learning_rate=0.1, max_depth=5, total= 6.9min\n",
      "[CV] n_estimators=500, learning_rate=0.01, max_depth=5 ...............\n",
      "[CV]  n_estimators=300, learning_rate=0.01, max_depth=5, total= 4.3min\n",
      "[CV] n_estimators=500, learning_rate=0.01, max_depth=5 ...............\n",
      "[CV]  n_estimators=300, learning_rate=0.01, max_depth=5, total= 4.3min\n",
      "[CV] n_estimators=500, learning_rate=0.01, max_depth=5 ...............\n",
      "[CV]  n_estimators=300, learning_rate=0.01, max_depth=5, total= 4.4min\n",
      "[CV]  n_estimators=500, learning_rate=0.01, max_depth=5, total= 6.5min\n",
      "[CV]  n_estimators=500, learning_rate=0.01, max_depth=5, total= 6.1min\n",
      "[CV]  n_estimators=500, learning_rate=0.01, max_depth=5, total= 5.9min\n"
     ]
    },
    {
     "name": "stderr",
     "output_type": "stream",
     "text": [
      "[Parallel(n_jobs=4)]: Done  18 out of  18 | elapsed: 23.4min finished\n"
     ]
    },
    {
     "data": {
      "text/plain": [
       "GridSearchCV(cv=3, error_score='raise',\n",
       "       estimator=XGBClassifier(base_score=0.5, booster='gbtree', colsample_bylevel=1,\n",
       "       colsample_bytree=1, gamma=0, learning_rate=0.1, max_delta_step=0,\n",
       "       max_depth=3, min_child_weight=1, missing=None, n_estimators=100,\n",
       "       n_jobs=1, nthread=None, objective='binary:logistic', random_state=0,\n",
       "       reg_alpha=0, reg_lambda=1, scale_pos_weight=1, seed=None,\n",
       "       silent=True, subsample=1),\n",
       "       fit_params=None, iid=True, n_jobs=4,\n",
       "       param_grid=[{'n_estimators': [200, 300, 500], 'learning_rate': [0.1, 0.01], 'max_depth': [5]}],\n",
       "       pre_dispatch='2*n_jobs', refit=False, return_train_score=True,\n",
       "       scoring='roc_auc', verbose=2)"
      ]
     },
     "execution_count": 39,
     "metadata": {},
     "output_type": "execute_result"
    }
   ],
   "source": [
    "xgb_param_grid = [\n",
    "    {\n",
    "     'learning_rate': [0.1,0.01], \n",
    "     #'n_estimators': [100], \n",
    "     'n_estimators': [200,300,500], \n",
    "     'max_depth': [5],\n",
    "    }\n",
    "  ]\n",
    "\n",
    "\n",
    "\"\"\"\n",
    "     'n_estimators': [100, 150,200], \n",
    "     'max_depth': [30,40,50],\n",
    " grid best\n",
    "{'learning_rate': 0.1, 'n_estimators': 200}\n",
    "\"\"\"\n",
    "xgb_clf = XGBClassifier()\n",
    "xgb_grid_search = GridSearchCV(xgb_clf, xgb_param_grid, cv=3,scoring=\"roc_auc\",refit=False, n_jobs=4,\n",
    "                           return_train_score=True,verbose=2)\n",
    "xgb_grid_search.fit(X_train, y_train)"
   ]
  },
  {
   "cell_type": "code",
   "execution_count": 40,
   "metadata": {},
   "outputs": [
    {
     "data": {
      "text/plain": [
       "{'learning_rate': 0.01, 'max_depth': 5, 'n_estimators': 500}"
      ]
     },
     "execution_count": 40,
     "metadata": {},
     "output_type": "execute_result"
    }
   ],
   "source": [
    "xgb_grid_search.best_params_"
   ]
  },
  {
   "cell_type": "code",
   "execution_count": 41,
   "metadata": {},
   "outputs": [
    {
     "name": "stdout",
     "output_type": "stream",
     "text": [
      "(0.7026082930202219, {'n_estimators': 200, 'learning_rate': 0.1, 'max_depth': 5})\n",
      "(0.7006159871217154, {'n_estimators': 300, 'learning_rate': 0.1, 'max_depth': 5})\n",
      "(0.6968152146088946, {'n_estimators': 500, 'learning_rate': 0.1, 'max_depth': 5})\n",
      "(0.7002132320429117, {'n_estimators': 200, 'learning_rate': 0.01, 'max_depth': 5})\n",
      "(0.7020180395832243, {'n_estimators': 300, 'learning_rate': 0.01, 'max_depth': 5})\n",
      "(0.704503095613778, {'n_estimators': 500, 'learning_rate': 0.01, 'max_depth': 5})\n"
     ]
    }
   ],
   "source": [
    "cvres = xgb_grid_search.cv_results_\n",
    "for mean_score, params in zip(cvres[\"mean_test_score\"], cvres[\"params\"]):\n",
    "    print(mean_score, params)"
   ]
  },
  {
   "cell_type": "code",
   "execution_count": 30,
   "metadata": {},
   "outputs": [
    {
     "name": "stdout",
     "output_type": "stream",
     "text": [
      "Fitting 3 folds for each of 10 candidates, totalling 30 fits\n",
      "[CV] n_estimators=386, learning_rate=0.1, max_depth=89 ...............\n",
      "[CV] n_estimators=386, learning_rate=0.1, max_depth=89 ...............\n",
      "[CV] n_estimators=386, learning_rate=0.1, max_depth=89 ...............\n",
      "[CV] n_estimators=244, learning_rate=0.1, max_depth=29 ...............\n",
      "[CV]  n_estimators=244, learning_rate=0.1, max_depth=29, total=21.9min\n",
      "[CV] n_estimators=244, learning_rate=0.1, max_depth=29 ...............\n",
      "[CV]  n_estimators=244, learning_rate=0.1, max_depth=29, total=21.7min\n",
      "[CV] n_estimators=244, learning_rate=0.1, max_depth=29 ...............\n",
      "[CV]  n_estimators=386, learning_rate=0.1, max_depth=89, total=61.6min\n",
      "[CV] n_estimators=582, learning_rate=0.1, max_depth=61 ...............\n",
      "[CV]  n_estimators=386, learning_rate=0.1, max_depth=89, total=63.6min\n",
      "[CV] n_estimators=582, learning_rate=0.1, max_depth=61 ...............\n",
      "[CV]  n_estimators=386, learning_rate=0.1, max_depth=89, total=64.5min\n",
      "[CV] n_estimators=582, learning_rate=0.1, max_depth=61 ...............\n",
      "[CV]  n_estimators=244, learning_rate=0.1, max_depth=29, total=21.9min\n",
      "[CV] n_estimators=660, learning_rate=0.1, max_depth=45 ...............\n",
      "[CV] n_estimators=660, learning_rate=0.1, max_depth=45 ...............\n",
      "[CV] n_estimators=660, learning_rate=0.1, max_depth=45 ...............\n"
     ]
    },
    {
     "ename": "KeyboardInterrupt",
     "evalue": "",
     "output_type": "error",
     "traceback": [
      "\u001b[0;31m---------------------------------------------------------------------------\u001b[0m",
      "\u001b[0;31mKeyboardInterrupt\u001b[0m                         Traceback (most recent call last)",
      "\u001b[0;32m<ipython-input-30-3a0d0a42879a>\u001b[0m in \u001b[0;36m<module>\u001b[0;34m()\u001b[0m\n\u001b[1;32m     10\u001b[0m xgb_rnd_search = RandomizedSearchCV(xgb_clf, param_distributions=xgb_param_distribs,refit=False, n_jobs=4,\n\u001b[1;32m     11\u001b[0m                                 n_iter=10, cv=3, scoring='roc_auc',verbose=2)\n\u001b[0;32m---> 12\u001b[0;31m \u001b[0mxgb_rnd_search\u001b[0m\u001b[0;34m.\u001b[0m\u001b[0mfit\u001b[0m\u001b[0;34m(\u001b[0m\u001b[0mX_train\u001b[0m\u001b[0;34m,\u001b[0m \u001b[0my_train\u001b[0m\u001b[0;34m)\u001b[0m\u001b[0;34m\u001b[0m\u001b[0m\n\u001b[0m",
      "\u001b[0;32m/usr/local/lib/python2.7/dist-packages/sklearn/model_selection/_search.pyc\u001b[0m in \u001b[0;36mfit\u001b[0;34m(self, X, y, groups, **fit_params)\u001b[0m\n\u001b[1;32m    637\u001b[0m                                   error_score=self.error_score)\n\u001b[1;32m    638\u001b[0m           for parameters, (train, test) in product(candidate_params,\n\u001b[0;32m--> 639\u001b[0;31m                                                    cv.split(X, y, groups)))\n\u001b[0m\u001b[1;32m    640\u001b[0m \u001b[0;34m\u001b[0m\u001b[0m\n\u001b[1;32m    641\u001b[0m         \u001b[0;31m# if one choose to see train score, \"out\" will contain train score info\u001b[0m\u001b[0;34m\u001b[0m\u001b[0;34m\u001b[0m\u001b[0m\n",
      "\u001b[0;32m/usr/local/lib/python2.7/dist-packages/sklearn/externals/joblib/parallel.pyc\u001b[0m in \u001b[0;36m__call__\u001b[0;34m(self, iterable)\u001b[0m\n\u001b[1;32m    787\u001b[0m                 \u001b[0;31m# consumption.\u001b[0m\u001b[0;34m\u001b[0m\u001b[0;34m\u001b[0m\u001b[0m\n\u001b[1;32m    788\u001b[0m                 \u001b[0mself\u001b[0m\u001b[0;34m.\u001b[0m\u001b[0m_iterating\u001b[0m \u001b[0;34m=\u001b[0m \u001b[0mFalse\u001b[0m\u001b[0;34m\u001b[0m\u001b[0m\n\u001b[0;32m--> 789\u001b[0;31m             \u001b[0mself\u001b[0m\u001b[0;34m.\u001b[0m\u001b[0mretrieve\u001b[0m\u001b[0;34m(\u001b[0m\u001b[0;34m)\u001b[0m\u001b[0;34m\u001b[0m\u001b[0m\n\u001b[0m\u001b[1;32m    790\u001b[0m             \u001b[0;31m# Make sure that we get a last message telling us we are done\u001b[0m\u001b[0;34m\u001b[0m\u001b[0;34m\u001b[0m\u001b[0m\n\u001b[1;32m    791\u001b[0m             \u001b[0melapsed_time\u001b[0m \u001b[0;34m=\u001b[0m \u001b[0mtime\u001b[0m\u001b[0;34m.\u001b[0m\u001b[0mtime\u001b[0m\u001b[0;34m(\u001b[0m\u001b[0;34m)\u001b[0m \u001b[0;34m-\u001b[0m \u001b[0mself\u001b[0m\u001b[0;34m.\u001b[0m\u001b[0m_start_time\u001b[0m\u001b[0;34m\u001b[0m\u001b[0m\n",
      "\u001b[0;32m/usr/local/lib/python2.7/dist-packages/sklearn/externals/joblib/parallel.pyc\u001b[0m in \u001b[0;36mretrieve\u001b[0;34m(self)\u001b[0m\n\u001b[1;32m    697\u001b[0m             \u001b[0;32mtry\u001b[0m\u001b[0;34m:\u001b[0m\u001b[0;34m\u001b[0m\u001b[0m\n\u001b[1;32m    698\u001b[0m                 \u001b[0;32mif\u001b[0m \u001b[0mgetattr\u001b[0m\u001b[0;34m(\u001b[0m\u001b[0mself\u001b[0m\u001b[0;34m.\u001b[0m\u001b[0m_backend\u001b[0m\u001b[0;34m,\u001b[0m \u001b[0;34m'supports_timeout'\u001b[0m\u001b[0;34m,\u001b[0m \u001b[0mFalse\u001b[0m\u001b[0;34m)\u001b[0m\u001b[0;34m:\u001b[0m\u001b[0;34m\u001b[0m\u001b[0m\n\u001b[0;32m--> 699\u001b[0;31m                     \u001b[0mself\u001b[0m\u001b[0;34m.\u001b[0m\u001b[0m_output\u001b[0m\u001b[0;34m.\u001b[0m\u001b[0mextend\u001b[0m\u001b[0;34m(\u001b[0m\u001b[0mjob\u001b[0m\u001b[0;34m.\u001b[0m\u001b[0mget\u001b[0m\u001b[0;34m(\u001b[0m\u001b[0mtimeout\u001b[0m\u001b[0;34m=\u001b[0m\u001b[0mself\u001b[0m\u001b[0;34m.\u001b[0m\u001b[0mtimeout\u001b[0m\u001b[0;34m)\u001b[0m\u001b[0;34m)\u001b[0m\u001b[0;34m\u001b[0m\u001b[0m\n\u001b[0m\u001b[1;32m    700\u001b[0m                 \u001b[0;32melse\u001b[0m\u001b[0;34m:\u001b[0m\u001b[0;34m\u001b[0m\u001b[0m\n\u001b[1;32m    701\u001b[0m                     \u001b[0mself\u001b[0m\u001b[0;34m.\u001b[0m\u001b[0m_output\u001b[0m\u001b[0;34m.\u001b[0m\u001b[0mextend\u001b[0m\u001b[0;34m(\u001b[0m\u001b[0mjob\u001b[0m\u001b[0;34m.\u001b[0m\u001b[0mget\u001b[0m\u001b[0;34m(\u001b[0m\u001b[0;34m)\u001b[0m\u001b[0;34m)\u001b[0m\u001b[0;34m\u001b[0m\u001b[0m\n",
      "\u001b[0;32m/usr/lib/python2.7/multiprocessing/pool.py\u001b[0m in \u001b[0;36mget\u001b[0;34m(self, timeout)\u001b[0m\n\u001b[1;32m    559\u001b[0m \u001b[0;34m\u001b[0m\u001b[0m\n\u001b[1;32m    560\u001b[0m     \u001b[0;32mdef\u001b[0m \u001b[0mget\u001b[0m\u001b[0;34m(\u001b[0m\u001b[0mself\u001b[0m\u001b[0;34m,\u001b[0m \u001b[0mtimeout\u001b[0m\u001b[0;34m=\u001b[0m\u001b[0mNone\u001b[0m\u001b[0;34m)\u001b[0m\u001b[0;34m:\u001b[0m\u001b[0;34m\u001b[0m\u001b[0m\n\u001b[0;32m--> 561\u001b[0;31m         \u001b[0mself\u001b[0m\u001b[0;34m.\u001b[0m\u001b[0mwait\u001b[0m\u001b[0;34m(\u001b[0m\u001b[0mtimeout\u001b[0m\u001b[0;34m)\u001b[0m\u001b[0;34m\u001b[0m\u001b[0m\n\u001b[0m\u001b[1;32m    562\u001b[0m         \u001b[0;32mif\u001b[0m \u001b[0;32mnot\u001b[0m \u001b[0mself\u001b[0m\u001b[0;34m.\u001b[0m\u001b[0m_ready\u001b[0m\u001b[0;34m:\u001b[0m\u001b[0;34m\u001b[0m\u001b[0m\n\u001b[1;32m    563\u001b[0m             \u001b[0;32mraise\u001b[0m \u001b[0mTimeoutError\u001b[0m\u001b[0;34m\u001b[0m\u001b[0m\n",
      "\u001b[0;32m/usr/lib/python2.7/multiprocessing/pool.py\u001b[0m in \u001b[0;36mwait\u001b[0;34m(self, timeout)\u001b[0m\n\u001b[1;32m    554\u001b[0m         \u001b[0;32mtry\u001b[0m\u001b[0;34m:\u001b[0m\u001b[0;34m\u001b[0m\u001b[0m\n\u001b[1;32m    555\u001b[0m             \u001b[0;32mif\u001b[0m \u001b[0;32mnot\u001b[0m \u001b[0mself\u001b[0m\u001b[0;34m.\u001b[0m\u001b[0m_ready\u001b[0m\u001b[0;34m:\u001b[0m\u001b[0;34m\u001b[0m\u001b[0m\n\u001b[0;32m--> 556\u001b[0;31m                 \u001b[0mself\u001b[0m\u001b[0;34m.\u001b[0m\u001b[0m_cond\u001b[0m\u001b[0;34m.\u001b[0m\u001b[0mwait\u001b[0m\u001b[0;34m(\u001b[0m\u001b[0mtimeout\u001b[0m\u001b[0;34m)\u001b[0m\u001b[0;34m\u001b[0m\u001b[0m\n\u001b[0m\u001b[1;32m    557\u001b[0m         \u001b[0;32mfinally\u001b[0m\u001b[0;34m:\u001b[0m\u001b[0;34m\u001b[0m\u001b[0m\n\u001b[1;32m    558\u001b[0m             \u001b[0mself\u001b[0m\u001b[0;34m.\u001b[0m\u001b[0m_cond\u001b[0m\u001b[0;34m.\u001b[0m\u001b[0mrelease\u001b[0m\u001b[0;34m(\u001b[0m\u001b[0;34m)\u001b[0m\u001b[0;34m\u001b[0m\u001b[0m\n",
      "\u001b[0;32m/usr/lib/python2.7/threading.pyc\u001b[0m in \u001b[0;36mwait\u001b[0;34m(self, timeout)\u001b[0m\n\u001b[1;32m    338\u001b[0m         \u001b[0;32mtry\u001b[0m\u001b[0;34m:\u001b[0m    \u001b[0;31m# restore state no matter what (e.g., KeyboardInterrupt)\u001b[0m\u001b[0;34m\u001b[0m\u001b[0m\n\u001b[1;32m    339\u001b[0m             \u001b[0;32mif\u001b[0m \u001b[0mtimeout\u001b[0m \u001b[0;32mis\u001b[0m \u001b[0mNone\u001b[0m\u001b[0;34m:\u001b[0m\u001b[0;34m\u001b[0m\u001b[0m\n\u001b[0;32m--> 340\u001b[0;31m                 \u001b[0mwaiter\u001b[0m\u001b[0;34m.\u001b[0m\u001b[0macquire\u001b[0m\u001b[0;34m(\u001b[0m\u001b[0;34m)\u001b[0m\u001b[0;34m\u001b[0m\u001b[0m\n\u001b[0m\u001b[1;32m    341\u001b[0m                 \u001b[0;32mif\u001b[0m \u001b[0m__debug__\u001b[0m\u001b[0;34m:\u001b[0m\u001b[0;34m\u001b[0m\u001b[0m\n\u001b[1;32m    342\u001b[0m                     \u001b[0mself\u001b[0m\u001b[0;34m.\u001b[0m\u001b[0m_note\u001b[0m\u001b[0;34m(\u001b[0m\u001b[0;34m\"%s.wait(): got it\"\u001b[0m\u001b[0;34m,\u001b[0m \u001b[0mself\u001b[0m\u001b[0;34m)\u001b[0m\u001b[0;34m\u001b[0m\u001b[0m\n",
      "\u001b[0;31mKeyboardInterrupt\u001b[0m: "
     ]
    }
   ],
   "source": [
    "xgb_param_distribs = {\n",
    "    'learning_rate': [0.1, 0.01],\n",
    "    'n_estimators': randint(low=50, high=500), \n",
    "    #'max_depth': randint(low=5, high=20),\n",
    "    'max_depth': [10],\n",
    "    }\n",
    "\"\"\"\n",
    " \n",
    "\"\"\"\n",
    "xgb_clf = XGBClassifier()\n",
    "xgb_rnd_search = RandomizedSearchCV(xgb_clf, param_distributions=xgb_param_distribs,refit=False, n_jobs=4,\n",
    "                                n_iter=10, cv=3, scoring='roc_auc',verbose=2)\n",
    "xgb_rnd_search.fit(X_train, y_train)"
   ]
  },
  {
   "cell_type": "code",
   "execution_count": null,
   "metadata": {},
   "outputs": [],
   "source": []
  },
  {
   "cell_type": "code",
   "execution_count": null,
   "metadata": {},
   "outputs": [],
   "source": []
  },
  {
   "cell_type": "code",
   "execution_count": null,
   "metadata": {},
   "outputs": [],
   "source": []
  },
  {
   "cell_type": "code",
   "execution_count": null,
   "metadata": {},
   "outputs": [],
   "source": []
  },
  {
   "cell_type": "markdown",
   "metadata": {},
   "source": [
    "## Logistic Regression"
   ]
  },
  {
   "cell_type": "code",
   "execution_count": 30,
   "metadata": {},
   "outputs": [
    {
     "name": "stdout",
     "output_type": "stream",
     "text": [
      "Fitting 3 folds for each of 2 candidates, totalling 6 fits\n",
      "[CV] penalty=l1, C=0.01 ..............................................\n",
      "[CV] penalty=l1, C=0.01 ..............................................\n",
      "[CV] penalty=l1, C=0.01 ..............................................\n",
      "[CV] penalty=l2, C=0.01 ..............................................\n",
      "[CV] ............................... penalty=l1, C=0.01, total=   2.8s\n",
      "[CV] penalty=l2, C=0.01 ..............................................\n",
      "[CV] ............................... penalty=l1, C=0.01, total=   2.7s\n",
      "[CV] penalty=l2, C=0.01 ..............................................\n",
      "[CV] ............................... penalty=l1, C=0.01, total=   3.3s\n"
     ]
    },
    {
     "name": "stderr",
     "output_type": "stream",
     "text": [
      "[Parallel(n_jobs=4)]: Done   3 out of   6 | elapsed:    4.3s remaining:    4.3s\n"
     ]
    },
    {
     "name": "stdout",
     "output_type": "stream",
     "text": [
      "[CV] ............................... penalty=l2, C=0.01, total=   3.6s\n",
      "[CV] ............................... penalty=l2, C=0.01, total=   2.4s\n",
      "[CV] ............................... penalty=l2, C=0.01, total=   3.0s\n"
     ]
    },
    {
     "name": "stderr",
     "output_type": "stream",
     "text": [
      "[Parallel(n_jobs=4)]: Done   6 out of   6 | elapsed:    6.4s finished\n"
     ]
    },
    {
     "data": {
      "text/plain": [
       "GridSearchCV(cv=3, error_score='raise',\n",
       "       estimator=LogisticRegression(C=1.0, class_weight=None, dual=False, fit_intercept=True,\n",
       "          intercept_scaling=1, max_iter=100, multi_class='ovr', n_jobs=1,\n",
       "          penalty='l2', random_state=None, solver='liblinear', tol=0.0001,\n",
       "          verbose=0, warm_start=False),\n",
       "       fit_params=None, iid=True, n_jobs=4,\n",
       "       param_grid=[{'penalty': ['l1', 'l2'], 'C': [0.01]}],\n",
       "       pre_dispatch='2*n_jobs', refit=True, return_train_score=True,\n",
       "       scoring='roc_auc', verbose=2)"
      ]
     },
     "execution_count": 30,
     "metadata": {},
     "output_type": "execute_result"
    }
   ],
   "source": [
    "lr_param_grid = [\n",
    "    {'penalty': ['l1','l2'], \n",
    "     'C': [0.01]\n",
    "     #'C': [0.1,1,10,100,500,1000,10000,100000]\n",
    "    }\n",
    "  ]\n",
    "\"\"\"\n",
    "grid\n",
    "{'C': 0.01, 'penalty': 'l1'}\"\"\"\n",
    "lr_clf = LogisticRegression()\n",
    "    \n",
    "lr_grid_search = GridSearchCV(lr_clf, \n",
    "                               lr_param_grid, \n",
    "                               cv=3,\n",
    "                               scoring=\"roc_auc\",\n",
    "                               return_train_score=True, n_jobs=4,\n",
    "                               verbose=2)\n",
    "lr_grid_search.fit(X_train, y_train)"
   ]
  },
  {
   "cell_type": "code",
   "execution_count": 31,
   "metadata": {},
   "outputs": [
    {
     "data": {
      "text/plain": [
       "{'C': 0.01, 'penalty': 'l1'}"
      ]
     },
     "execution_count": 31,
     "metadata": {},
     "output_type": "execute_result"
    }
   ],
   "source": [
    "lr_grid_search.best_params_"
   ]
  },
  {
   "cell_type": "code",
   "execution_count": 32,
   "metadata": {},
   "outputs": [
    {
     "name": "stdout",
     "output_type": "stream",
     "text": [
      "(0.6757793742006123, {'penalty': 'l1', 'C': 0.01})\n",
      "(0.6737299525772606, {'penalty': 'l2', 'C': 0.01})\n"
     ]
    }
   ],
   "source": [
    "cvres = lr_grid_search.cv_results_\n",
    "for mean_score, params in zip(cvres[\"mean_test_score\"], cvres[\"params\"]):\n",
    "    print(mean_score, params)"
   ]
  },
  {
   "cell_type": "markdown",
   "metadata": {},
   "source": [
    "# Voting Classifier\n"
   ]
  },
  {
   "cell_type": "code",
   "execution_count": 18,
   "metadata": {},
   "outputs": [],
   "source": [
    "from sklearn.ensemble import VotingClassifier"
   ]
  },
  {
   "cell_type": "code",
   "execution_count": 19,
   "metadata": {},
   "outputs": [
    {
     "data": {
      "text/plain": [
       "VotingClassifier(estimators=[('rf', RandomForestClassifier(bootstrap=True, class_weight=None, criterion='gini',\n",
       "            max_depth=20, max_features=40, max_leaf_nodes=None,\n",
       "            min_impurity_decrease=0.0, min_impurity_split=None,\n",
       "            min_samples_leaf=70, min_samples_split=100,\n",
       "            min_weigh...\n",
       "       reg_alpha=0, reg_lambda=1, scale_pos_weight=1, seed=None,\n",
       "       silent=True, subsample=1))],\n",
       "         flatten_transform=None, n_jobs=1, voting='soft', weights=None)"
      ]
     },
     "execution_count": 19,
     "metadata": {},
     "output_type": "execute_result"
    }
   ],
   "source": [
    "voting_soft_clf = VotingClassifier(\n",
    "    estimators=[\n",
    "                #('knn', classifiers[\"KNN\"]), \n",
    "                ('rf', classifiers[\"RFC\"]), \n",
    "                ('lgb', classifiers[\"LGB\"]), \n",
    "                ('xgb', classifiers[\"XGB\"])\n",
    "                #('gnb', classifiers[\"GNB\"]), \n",
    "                #('mlp', classifiers[\"MLP\"]), \n",
    "                #('svc', classifiers[\"SVC\"]), \n",
    "                #('dtc', classifiers[\"DTC\"]), \n",
    "                #('lr', classifiers[\"LogisticRegression\"]), \n",
    "                ],\n",
    "    voting='soft')\n",
    "voting_soft_clf.fit(X_train, y_train)"
   ]
  },
  {
   "cell_type": "code",
   "execution_count": 27,
   "metadata": {},
   "outputs": [],
   "source": [
    "from sklearn.metrics import roc_auc_score\n",
    "from sklearn.metrics import auc"
   ]
  },
  {
   "cell_type": "code",
   "execution_count": 24,
   "metadata": {},
   "outputs": [
    {
     "name": "stdout",
     "output_type": "stream",
     "text": [
      "('RandomForestClassifier', 0.7048289916700102)\n",
      "('KNeighborsClassifier', 0.67987487766698)\n",
      "('XGBClassifier', 0.7014909588775396)\n",
      "('LGBMClassifier', 0.7081859346622928)\n",
      "('LogisticRegression', 0.6794396948676322)\n",
      "('VotingClassifier', 0.7076403917499599)\n"
     ]
    }
   ],
   "source": [
    "for clf in (classifiers[\"RFC\"], \n",
    "            classifiers[\"KNN\"], \n",
    "            classifiers[\"XGB\"], \n",
    "            classifiers[\"LGB\"], \n",
    "            #classifiers[\"GNB\"], \n",
    "            #classifiers[\"MLP\"], \n",
    "            classifiers[\"LogisticRegression\"], \n",
    "            voting_soft_clf):\n",
    "    #clf.fit(X_train, y_train)\n",
    "    y_pred = clf.predict_proba(X_val)[:,1]\n",
    "    print(clf.__class__.__name__, roc_auc_score(y_val, y_pred))"
   ]
  },
  {
   "cell_type": "markdown",
   "metadata": {},
   "source": [
    "# Kaggle submission file"
   ]
  },
  {
   "cell_type": "code",
   "execution_count": 14,
   "metadata": {},
   "outputs": [],
   "source": [
    "# Get test features\n",
    "#test_examples = test_data[features].copy()\n",
    "test_examples = X_test"
   ]
  },
  {
   "cell_type": "code",
   "execution_count": 15,
   "metadata": {},
   "outputs": [
    {
     "data": {
      "text/plain": [
       "<78035x2235 sparse matrix of type '<type 'numpy.float64'>'\n",
       "\twith 8585468 stored elements in Compressed Sparse Row format>"
      ]
     },
     "execution_count": 15,
     "metadata": {},
     "output_type": "execute_result"
    }
   ],
   "source": [
    "#test_examples.values\n",
    "test_examples"
   ]
  },
  {
   "cell_type": "code",
   "execution_count": 58,
   "metadata": {},
   "outputs": [
    {
     "data": {
      "text/plain": [
       "array([[0.06257927, 0.93742073],\n",
       "       [0.14779826, 0.85220174],\n",
       "       [0.08693368, 0.91306632],\n",
       "       ...,\n",
       "       [0.23099738, 0.76900262],\n",
       "       [0.05505805, 0.94494195],\n",
       "       [0.30758511, 0.69241489]])"
      ]
     },
     "execution_count": 58,
     "metadata": {},
     "output_type": "execute_result"
    }
   ],
   "source": [
    "#voting_soft_clf.predict_proba(test_examples)\n",
    "classifiers['LGB'].predict_proba(test_examples)\n",
    "#classifiers['XGB'].predict_proba(test_examples.values)\n",
    "#voting_soft_clf.predict_proba(test_examples.values)"
   ]
  },
  {
   "cell_type": "code",
   "execution_count": 16,
   "metadata": {},
   "outputs": [],
   "source": [
    "#probabilities = voting_soft_clf.predict_proba(test_examples)[:,1]\n",
    "probabilities = classifiers['LGB'].predict_proba(test_examples)[:,1]\n",
    "#probabilities = classifiers['XGB'].predict_proba(test_examples.values)[:,1]\n",
    "#probabilities = voting_soft_clf.predict_proba(test_examples.values)[:,1]\n",
    "#probabilities = classifiers['XGB'].predict(test_examples)[:,1]"
   ]
  },
  {
   "cell_type": "code",
   "execution_count": 17,
   "metadata": {
    "scrolled": true
   },
   "outputs": [
    {
     "data": {
      "text/plain": [
       "0.8493874696044704"
      ]
     },
     "execution_count": 17,
     "metadata": {},
     "output_type": "execute_result"
    }
   ],
   "source": [
    "probabilities.mean()"
   ]
  },
  {
   "cell_type": "code",
   "execution_count": 18,
   "metadata": {},
   "outputs": [
    {
     "name": "stdout",
     "output_type": "stream",
     "text": [
      "[['p233245' 0.9538629342264332]\n",
      " ['p096795' 0.906542979248053]\n",
      " ['p236235' 0.9388096856823318]\n",
      " ...\n",
      " ['p210728' 0.8860201694334515]\n",
      " ['p060531' 0.9655025033013157]\n",
      " ['p087783' 0.5942823762093679]]\n"
     ]
    }
   ],
   "source": [
    "my_submission = pd.DataFrame({'id': test_data[\"id\"], 'project_is_approved': probabilities})\n",
    "print(my_submission.values)"
   ]
  },
  {
   "cell_type": "code",
   "execution_count": 19,
   "metadata": {},
   "outputs": [],
   "source": [
    "my_submission.to_csv('my_submission_lgb_sentinfo.csv', index=False)\n",
    "#my_submission.to_csv('my_submission_voting3.csv', index=False)"
   ]
  },
  {
   "cell_type": "code",
   "execution_count": 20,
   "metadata": {},
   "outputs": [
    {
     "data": {
      "text/plain": [
       "(78035, 2)"
      ]
     },
     "execution_count": 20,
     "metadata": {},
     "output_type": "execute_result"
    }
   ],
   "source": [
    "my_submission.shape"
   ]
  },
  {
   "cell_type": "code",
   "execution_count": null,
   "metadata": {},
   "outputs": [],
   "source": []
  },
  {
   "cell_type": "code",
   "execution_count": null,
   "metadata": {},
   "outputs": [],
   "source": []
  },
  {
   "cell_type": "code",
   "execution_count": null,
   "metadata": {},
   "outputs": [],
   "source": []
  },
  {
   "cell_type": "markdown",
   "metadata": {},
   "source": [
    "First score with RFC: 0.56406\n",
    "\n",
    "Second score with XGB: 0.69273"
   ]
  },
  {
   "cell_type": "code",
   "execution_count": null,
   "metadata": {},
   "outputs": [],
   "source": []
  }
 ],
 "metadata": {
  "kernelspec": {
   "display_name": "Python 2",
   "language": "python",
   "name": "python2"
  },
  "language_info": {
   "codemirror_mode": {
    "name": "ipython",
    "version": 2
   },
   "file_extension": ".py",
   "mimetype": "text/x-python",
   "name": "python",
   "nbconvert_exporter": "python",
   "pygments_lexer": "ipython2",
   "version": "2.7.12"
  }
 },
 "nbformat": 4,
 "nbformat_minor": 2
}
